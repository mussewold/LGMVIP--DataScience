{
  "cells": [
    {
      "cell_type": "markdown",
      "source": [
        "#Task2: Stock Market Prediction and Forecasting using stacked LSTM 📈📉"
      ],
      "metadata": {
        "id": "VaVFSKZIuTu8"
      },
      "id": "VaVFSKZIuTu8"
    },
    {
      "cell_type": "markdown",
      "id": "f53d2d46",
      "metadata": {
        "id": "f53d2d46"
      },
      "source": [
        "## Importing the libraries"
      ]
    },
    {
      "cell_type": "code",
      "execution_count": null,
      "id": "86856432",
      "metadata": {
        "id": "86856432"
      },
      "outputs": [],
      "source": [
        "import numpy as np\n",
        "import pandas as pd\n",
        "import matplotlib.pyplot as plt\n",
        "import tensorflow as tf\n",
        "from sklearn.preprocessing import MinMaxScaler\n"
      ]
    },
    {
      "cell_type": "markdown",
      "id": "6ff2914e",
      "metadata": {
        "id": "6ff2914e"
      },
      "source": [
        "## Reading the dataset 📖"
      ]
    },
    {
      "cell_type": "code",
      "execution_count": null,
      "id": "379c9d12",
      "metadata": {
        "id": "379c9d12"
      },
      "outputs": [],
      "source": [
        "df = pd.read_csv(\"NSE-TATAGLOBAL.csv\")"
      ]
    },
    {
      "cell_type": "code",
      "execution_count": null,
      "id": "131ed5c7",
      "metadata": {
        "colab": {
          "base_uri": "https://localhost:8080/",
          "height": 206
        },
        "id": "131ed5c7",
        "outputId": "d934ea09-3a2d-4b3c-aabc-9fa8ff6f9cc3"
      },
      "outputs": [
        {
          "output_type": "execute_result",
          "data": {
            "text/plain": [
              "         Date    Open    High     Low    Last   Close  Total Trade Quantity  \\\n",
              "0  2018-09-28  234.05  235.95  230.20  233.50  233.75               3069914   \n",
              "1  2018-09-27  234.55  236.80  231.10  233.80  233.25               5082859   \n",
              "2  2018-09-26  240.00  240.00  232.50  235.00  234.25               2240909   \n",
              "3  2018-09-25  233.30  236.75  232.00  236.25  236.10               2349368   \n",
              "4  2018-09-24  233.55  239.20  230.75  234.00  233.30               3423509   \n",
              "\n",
              "   Turnover (Lacs)  \n",
              "0          7162.35  \n",
              "1         11859.95  \n",
              "2          5248.60  \n",
              "3          5503.90  \n",
              "4          7999.55  "
            ],
            "text/html": [
              "\n",
              "  <div id=\"df-3f9bddac-9c70-423c-a7ec-dcc9589a4fac\">\n",
              "    <div class=\"colab-df-container\">\n",
              "      <div>\n",
              "<style scoped>\n",
              "    .dataframe tbody tr th:only-of-type {\n",
              "        vertical-align: middle;\n",
              "    }\n",
              "\n",
              "    .dataframe tbody tr th {\n",
              "        vertical-align: top;\n",
              "    }\n",
              "\n",
              "    .dataframe thead th {\n",
              "        text-align: right;\n",
              "    }\n",
              "</style>\n",
              "<table border=\"1\" class=\"dataframe\">\n",
              "  <thead>\n",
              "    <tr style=\"text-align: right;\">\n",
              "      <th></th>\n",
              "      <th>Date</th>\n",
              "      <th>Open</th>\n",
              "      <th>High</th>\n",
              "      <th>Low</th>\n",
              "      <th>Last</th>\n",
              "      <th>Close</th>\n",
              "      <th>Total Trade Quantity</th>\n",
              "      <th>Turnover (Lacs)</th>\n",
              "    </tr>\n",
              "  </thead>\n",
              "  <tbody>\n",
              "    <tr>\n",
              "      <th>0</th>\n",
              "      <td>2018-09-28</td>\n",
              "      <td>234.05</td>\n",
              "      <td>235.95</td>\n",
              "      <td>230.20</td>\n",
              "      <td>233.50</td>\n",
              "      <td>233.75</td>\n",
              "      <td>3069914</td>\n",
              "      <td>7162.35</td>\n",
              "    </tr>\n",
              "    <tr>\n",
              "      <th>1</th>\n",
              "      <td>2018-09-27</td>\n",
              "      <td>234.55</td>\n",
              "      <td>236.80</td>\n",
              "      <td>231.10</td>\n",
              "      <td>233.80</td>\n",
              "      <td>233.25</td>\n",
              "      <td>5082859</td>\n",
              "      <td>11859.95</td>\n",
              "    </tr>\n",
              "    <tr>\n",
              "      <th>2</th>\n",
              "      <td>2018-09-26</td>\n",
              "      <td>240.00</td>\n",
              "      <td>240.00</td>\n",
              "      <td>232.50</td>\n",
              "      <td>235.00</td>\n",
              "      <td>234.25</td>\n",
              "      <td>2240909</td>\n",
              "      <td>5248.60</td>\n",
              "    </tr>\n",
              "    <tr>\n",
              "      <th>3</th>\n",
              "      <td>2018-09-25</td>\n",
              "      <td>233.30</td>\n",
              "      <td>236.75</td>\n",
              "      <td>232.00</td>\n",
              "      <td>236.25</td>\n",
              "      <td>236.10</td>\n",
              "      <td>2349368</td>\n",
              "      <td>5503.90</td>\n",
              "    </tr>\n",
              "    <tr>\n",
              "      <th>4</th>\n",
              "      <td>2018-09-24</td>\n",
              "      <td>233.55</td>\n",
              "      <td>239.20</td>\n",
              "      <td>230.75</td>\n",
              "      <td>234.00</td>\n",
              "      <td>233.30</td>\n",
              "      <td>3423509</td>\n",
              "      <td>7999.55</td>\n",
              "    </tr>\n",
              "  </tbody>\n",
              "</table>\n",
              "</div>\n",
              "      <button class=\"colab-df-convert\" onclick=\"convertToInteractive('df-3f9bddac-9c70-423c-a7ec-dcc9589a4fac')\"\n",
              "              title=\"Convert this dataframe to an interactive table.\"\n",
              "              style=\"display:none;\">\n",
              "        \n",
              "  <svg xmlns=\"http://www.w3.org/2000/svg\" height=\"24px\"viewBox=\"0 0 24 24\"\n",
              "       width=\"24px\">\n",
              "    <path d=\"M0 0h24v24H0V0z\" fill=\"none\"/>\n",
              "    <path d=\"M18.56 5.44l.94 2.06.94-2.06 2.06-.94-2.06-.94-.94-2.06-.94 2.06-2.06.94zm-11 1L8.5 8.5l.94-2.06 2.06-.94-2.06-.94L8.5 2.5l-.94 2.06-2.06.94zm10 10l.94 2.06.94-2.06 2.06-.94-2.06-.94-.94-2.06-.94 2.06-2.06.94z\"/><path d=\"M17.41 7.96l-1.37-1.37c-.4-.4-.92-.59-1.43-.59-.52 0-1.04.2-1.43.59L10.3 9.45l-7.72 7.72c-.78.78-.78 2.05 0 2.83L4 21.41c.39.39.9.59 1.41.59.51 0 1.02-.2 1.41-.59l7.78-7.78 2.81-2.81c.8-.78.8-2.07 0-2.86zM5.41 20L4 18.59l7.72-7.72 1.47 1.35L5.41 20z\"/>\n",
              "  </svg>\n",
              "      </button>\n",
              "      \n",
              "  <style>\n",
              "    .colab-df-container {\n",
              "      display:flex;\n",
              "      flex-wrap:wrap;\n",
              "      gap: 12px;\n",
              "    }\n",
              "\n",
              "    .colab-df-convert {\n",
              "      background-color: #E8F0FE;\n",
              "      border: none;\n",
              "      border-radius: 50%;\n",
              "      cursor: pointer;\n",
              "      display: none;\n",
              "      fill: #1967D2;\n",
              "      height: 32px;\n",
              "      padding: 0 0 0 0;\n",
              "      width: 32px;\n",
              "    }\n",
              "\n",
              "    .colab-df-convert:hover {\n",
              "      background-color: #E2EBFA;\n",
              "      box-shadow: 0px 1px 2px rgba(60, 64, 67, 0.3), 0px 1px 3px 1px rgba(60, 64, 67, 0.15);\n",
              "      fill: #174EA6;\n",
              "    }\n",
              "\n",
              "    [theme=dark] .colab-df-convert {\n",
              "      background-color: #3B4455;\n",
              "      fill: #D2E3FC;\n",
              "    }\n",
              "\n",
              "    [theme=dark] .colab-df-convert:hover {\n",
              "      background-color: #434B5C;\n",
              "      box-shadow: 0px 1px 3px 1px rgba(0, 0, 0, 0.15);\n",
              "      filter: drop-shadow(0px 1px 2px rgba(0, 0, 0, 0.3));\n",
              "      fill: #FFFFFF;\n",
              "    }\n",
              "  </style>\n",
              "\n",
              "      <script>\n",
              "        const buttonEl =\n",
              "          document.querySelector('#df-3f9bddac-9c70-423c-a7ec-dcc9589a4fac button.colab-df-convert');\n",
              "        buttonEl.style.display =\n",
              "          google.colab.kernel.accessAllowed ? 'block' : 'none';\n",
              "\n",
              "        async function convertToInteractive(key) {\n",
              "          const element = document.querySelector('#df-3f9bddac-9c70-423c-a7ec-dcc9589a4fac');\n",
              "          const dataTable =\n",
              "            await google.colab.kernel.invokeFunction('convertToInteractive',\n",
              "                                                     [key], {});\n",
              "          if (!dataTable) return;\n",
              "\n",
              "          const docLinkHtml = 'Like what you see? Visit the ' +\n",
              "            '<a target=\"_blank\" href=https://colab.research.google.com/notebooks/data_table.ipynb>data table notebook</a>'\n",
              "            + ' to learn more about interactive tables.';\n",
              "          element.innerHTML = '';\n",
              "          dataTable['output_type'] = 'display_data';\n",
              "          await google.colab.output.renderOutput(dataTable, element);\n",
              "          const docLink = document.createElement('div');\n",
              "          docLink.innerHTML = docLinkHtml;\n",
              "          element.appendChild(docLink);\n",
              "        }\n",
              "      </script>\n",
              "    </div>\n",
              "  </div>\n",
              "  "
            ]
          },
          "metadata": {},
          "execution_count": 122
        }
      ],
      "source": [
        "df.head()"
      ]
    },
    {
      "cell_type": "markdown",
      "id": "121d49ea",
      "metadata": {
        "id": "121d49ea"
      },
      "source": [
        "#### Displaying the basic statistics about data"
      ]
    },
    {
      "cell_type": "code",
      "execution_count": null,
      "id": "d6ed881e",
      "metadata": {
        "colab": {
          "base_uri": "https://localhost:8080/",
          "height": 300
        },
        "id": "d6ed881e",
        "outputId": "d151babe-bc8e-4c58-98d4-9cea7ec220cc"
      },
      "outputs": [
        {
          "output_type": "execute_result",
          "data": {
            "text/plain": [
              "              Open         High          Low         Last       Close  \\\n",
              "count  2035.000000  2035.000000  2035.000000  2035.000000  2035.00000   \n",
              "mean    149.713735   151.992826   147.293931   149.474251   149.45027   \n",
              "std      48.664509    49.413109    47.931958    48.732570    48.71204   \n",
              "min      81.100000    82.800000    80.000000    81.000000    80.95000   \n",
              "25%     120.025000   122.100000   118.300000   120.075000   120.05000   \n",
              "50%     141.500000   143.400000   139.600000   141.100000   141.25000   \n",
              "75%     157.175000   159.400000   155.150000   156.925000   156.90000   \n",
              "max     327.700000   328.750000   321.650000   325.950000   325.75000   \n",
              "\n",
              "       Total Trade Quantity  Turnover (Lacs)  \n",
              "count          2.035000e+03      2035.000000  \n",
              "mean           2.335681e+06      3899.980565  \n",
              "std            2.091778e+06      4570.767877  \n",
              "min            3.961000e+04        37.040000  \n",
              "25%            1.146444e+06      1427.460000  \n",
              "50%            1.783456e+06      2512.030000  \n",
              "75%            2.813594e+06      4539.015000  \n",
              "max            2.919102e+07     55755.080000  "
            ],
            "text/html": [
              "\n",
              "  <div id=\"df-713d32b8-a557-4e2e-b570-14fb46d214c8\">\n",
              "    <div class=\"colab-df-container\">\n",
              "      <div>\n",
              "<style scoped>\n",
              "    .dataframe tbody tr th:only-of-type {\n",
              "        vertical-align: middle;\n",
              "    }\n",
              "\n",
              "    .dataframe tbody tr th {\n",
              "        vertical-align: top;\n",
              "    }\n",
              "\n",
              "    .dataframe thead th {\n",
              "        text-align: right;\n",
              "    }\n",
              "</style>\n",
              "<table border=\"1\" class=\"dataframe\">\n",
              "  <thead>\n",
              "    <tr style=\"text-align: right;\">\n",
              "      <th></th>\n",
              "      <th>Open</th>\n",
              "      <th>High</th>\n",
              "      <th>Low</th>\n",
              "      <th>Last</th>\n",
              "      <th>Close</th>\n",
              "      <th>Total Trade Quantity</th>\n",
              "      <th>Turnover (Lacs)</th>\n",
              "    </tr>\n",
              "  </thead>\n",
              "  <tbody>\n",
              "    <tr>\n",
              "      <th>count</th>\n",
              "      <td>2035.000000</td>\n",
              "      <td>2035.000000</td>\n",
              "      <td>2035.000000</td>\n",
              "      <td>2035.000000</td>\n",
              "      <td>2035.00000</td>\n",
              "      <td>2.035000e+03</td>\n",
              "      <td>2035.000000</td>\n",
              "    </tr>\n",
              "    <tr>\n",
              "      <th>mean</th>\n",
              "      <td>149.713735</td>\n",
              "      <td>151.992826</td>\n",
              "      <td>147.293931</td>\n",
              "      <td>149.474251</td>\n",
              "      <td>149.45027</td>\n",
              "      <td>2.335681e+06</td>\n",
              "      <td>3899.980565</td>\n",
              "    </tr>\n",
              "    <tr>\n",
              "      <th>std</th>\n",
              "      <td>48.664509</td>\n",
              "      <td>49.413109</td>\n",
              "      <td>47.931958</td>\n",
              "      <td>48.732570</td>\n",
              "      <td>48.71204</td>\n",
              "      <td>2.091778e+06</td>\n",
              "      <td>4570.767877</td>\n",
              "    </tr>\n",
              "    <tr>\n",
              "      <th>min</th>\n",
              "      <td>81.100000</td>\n",
              "      <td>82.800000</td>\n",
              "      <td>80.000000</td>\n",
              "      <td>81.000000</td>\n",
              "      <td>80.95000</td>\n",
              "      <td>3.961000e+04</td>\n",
              "      <td>37.040000</td>\n",
              "    </tr>\n",
              "    <tr>\n",
              "      <th>25%</th>\n",
              "      <td>120.025000</td>\n",
              "      <td>122.100000</td>\n",
              "      <td>118.300000</td>\n",
              "      <td>120.075000</td>\n",
              "      <td>120.05000</td>\n",
              "      <td>1.146444e+06</td>\n",
              "      <td>1427.460000</td>\n",
              "    </tr>\n",
              "    <tr>\n",
              "      <th>50%</th>\n",
              "      <td>141.500000</td>\n",
              "      <td>143.400000</td>\n",
              "      <td>139.600000</td>\n",
              "      <td>141.100000</td>\n",
              "      <td>141.25000</td>\n",
              "      <td>1.783456e+06</td>\n",
              "      <td>2512.030000</td>\n",
              "    </tr>\n",
              "    <tr>\n",
              "      <th>75%</th>\n",
              "      <td>157.175000</td>\n",
              "      <td>159.400000</td>\n",
              "      <td>155.150000</td>\n",
              "      <td>156.925000</td>\n",
              "      <td>156.90000</td>\n",
              "      <td>2.813594e+06</td>\n",
              "      <td>4539.015000</td>\n",
              "    </tr>\n",
              "    <tr>\n",
              "      <th>max</th>\n",
              "      <td>327.700000</td>\n",
              "      <td>328.750000</td>\n",
              "      <td>321.650000</td>\n",
              "      <td>325.950000</td>\n",
              "      <td>325.75000</td>\n",
              "      <td>2.919102e+07</td>\n",
              "      <td>55755.080000</td>\n",
              "    </tr>\n",
              "  </tbody>\n",
              "</table>\n",
              "</div>\n",
              "      <button class=\"colab-df-convert\" onclick=\"convertToInteractive('df-713d32b8-a557-4e2e-b570-14fb46d214c8')\"\n",
              "              title=\"Convert this dataframe to an interactive table.\"\n",
              "              style=\"display:none;\">\n",
              "        \n",
              "  <svg xmlns=\"http://www.w3.org/2000/svg\" height=\"24px\"viewBox=\"0 0 24 24\"\n",
              "       width=\"24px\">\n",
              "    <path d=\"M0 0h24v24H0V0z\" fill=\"none\"/>\n",
              "    <path d=\"M18.56 5.44l.94 2.06.94-2.06 2.06-.94-2.06-.94-.94-2.06-.94 2.06-2.06.94zm-11 1L8.5 8.5l.94-2.06 2.06-.94-2.06-.94L8.5 2.5l-.94 2.06-2.06.94zm10 10l.94 2.06.94-2.06 2.06-.94-2.06-.94-.94-2.06-.94 2.06-2.06.94z\"/><path d=\"M17.41 7.96l-1.37-1.37c-.4-.4-.92-.59-1.43-.59-.52 0-1.04.2-1.43.59L10.3 9.45l-7.72 7.72c-.78.78-.78 2.05 0 2.83L4 21.41c.39.39.9.59 1.41.59.51 0 1.02-.2 1.41-.59l7.78-7.78 2.81-2.81c.8-.78.8-2.07 0-2.86zM5.41 20L4 18.59l7.72-7.72 1.47 1.35L5.41 20z\"/>\n",
              "  </svg>\n",
              "      </button>\n",
              "      \n",
              "  <style>\n",
              "    .colab-df-container {\n",
              "      display:flex;\n",
              "      flex-wrap:wrap;\n",
              "      gap: 12px;\n",
              "    }\n",
              "\n",
              "    .colab-df-convert {\n",
              "      background-color: #E8F0FE;\n",
              "      border: none;\n",
              "      border-radius: 50%;\n",
              "      cursor: pointer;\n",
              "      display: none;\n",
              "      fill: #1967D2;\n",
              "      height: 32px;\n",
              "      padding: 0 0 0 0;\n",
              "      width: 32px;\n",
              "    }\n",
              "\n",
              "    .colab-df-convert:hover {\n",
              "      background-color: #E2EBFA;\n",
              "      box-shadow: 0px 1px 2px rgba(60, 64, 67, 0.3), 0px 1px 3px 1px rgba(60, 64, 67, 0.15);\n",
              "      fill: #174EA6;\n",
              "    }\n",
              "\n",
              "    [theme=dark] .colab-df-convert {\n",
              "      background-color: #3B4455;\n",
              "      fill: #D2E3FC;\n",
              "    }\n",
              "\n",
              "    [theme=dark] .colab-df-convert:hover {\n",
              "      background-color: #434B5C;\n",
              "      box-shadow: 0px 1px 3px 1px rgba(0, 0, 0, 0.15);\n",
              "      filter: drop-shadow(0px 1px 2px rgba(0, 0, 0, 0.3));\n",
              "      fill: #FFFFFF;\n",
              "    }\n",
              "  </style>\n",
              "\n",
              "      <script>\n",
              "        const buttonEl =\n",
              "          document.querySelector('#df-713d32b8-a557-4e2e-b570-14fb46d214c8 button.colab-df-convert');\n",
              "        buttonEl.style.display =\n",
              "          google.colab.kernel.accessAllowed ? 'block' : 'none';\n",
              "\n",
              "        async function convertToInteractive(key) {\n",
              "          const element = document.querySelector('#df-713d32b8-a557-4e2e-b570-14fb46d214c8');\n",
              "          const dataTable =\n",
              "            await google.colab.kernel.invokeFunction('convertToInteractive',\n",
              "                                                     [key], {});\n",
              "          if (!dataTable) return;\n",
              "\n",
              "          const docLinkHtml = 'Like what you see? Visit the ' +\n",
              "            '<a target=\"_blank\" href=https://colab.research.google.com/notebooks/data_table.ipynb>data table notebook</a>'\n",
              "            + ' to learn more about interactive tables.';\n",
              "          element.innerHTML = '';\n",
              "          dataTable['output_type'] = 'display_data';\n",
              "          await google.colab.output.renderOutput(dataTable, element);\n",
              "          const docLink = document.createElement('div');\n",
              "          docLink.innerHTML = docLinkHtml;\n",
              "          element.appendChild(docLink);\n",
              "        }\n",
              "      </script>\n",
              "    </div>\n",
              "  </div>\n",
              "  "
            ]
          },
          "metadata": {},
          "execution_count": 123
        }
      ],
      "source": [
        "df.describe()"
      ]
    },
    {
      "cell_type": "markdown",
      "id": "2b3e86cd",
      "metadata": {
        "id": "2b3e86cd"
      },
      "source": [
        "## Sorting the data"
      ]
    },
    {
      "cell_type": "markdown",
      "id": "588a95db",
      "metadata": {
        "id": "588a95db"
      },
      "source": [
        "#### Checking for null values"
      ]
    },
    {
      "cell_type": "code",
      "execution_count": null,
      "id": "379e365f",
      "metadata": {
        "colab": {
          "base_uri": "https://localhost:8080/",
          "height": 300
        },
        "id": "379e365f",
        "outputId": "7cd59c05-36c6-49ed-f2d9-6cdb605fefab"
      },
      "outputs": [
        {
          "output_type": "execute_result",
          "data": {
            "text/plain": [
              "            column_name  percentage\n",
              "0                  Date         0.0\n",
              "1                  Open         0.0\n",
              "2                  High         0.0\n",
              "3                   Low         0.0\n",
              "4                  Last         0.0\n",
              "5                 Close         0.0\n",
              "6  Total Trade Quantity         0.0\n",
              "7       Turnover (Lacs)         0.0"
            ],
            "text/html": [
              "\n",
              "  <div id=\"df-b9613f31-b2f6-4ea1-a060-4dfb436f19ce\">\n",
              "    <div class=\"colab-df-container\">\n",
              "      <div>\n",
              "<style scoped>\n",
              "    .dataframe tbody tr th:only-of-type {\n",
              "        vertical-align: middle;\n",
              "    }\n",
              "\n",
              "    .dataframe tbody tr th {\n",
              "        vertical-align: top;\n",
              "    }\n",
              "\n",
              "    .dataframe thead th {\n",
              "        text-align: right;\n",
              "    }\n",
              "</style>\n",
              "<table border=\"1\" class=\"dataframe\">\n",
              "  <thead>\n",
              "    <tr style=\"text-align: right;\">\n",
              "      <th></th>\n",
              "      <th>column_name</th>\n",
              "      <th>percentage</th>\n",
              "    </tr>\n",
              "  </thead>\n",
              "  <tbody>\n",
              "    <tr>\n",
              "      <th>0</th>\n",
              "      <td>Date</td>\n",
              "      <td>0.0</td>\n",
              "    </tr>\n",
              "    <tr>\n",
              "      <th>1</th>\n",
              "      <td>Open</td>\n",
              "      <td>0.0</td>\n",
              "    </tr>\n",
              "    <tr>\n",
              "      <th>2</th>\n",
              "      <td>High</td>\n",
              "      <td>0.0</td>\n",
              "    </tr>\n",
              "    <tr>\n",
              "      <th>3</th>\n",
              "      <td>Low</td>\n",
              "      <td>0.0</td>\n",
              "    </tr>\n",
              "    <tr>\n",
              "      <th>4</th>\n",
              "      <td>Last</td>\n",
              "      <td>0.0</td>\n",
              "    </tr>\n",
              "    <tr>\n",
              "      <th>5</th>\n",
              "      <td>Close</td>\n",
              "      <td>0.0</td>\n",
              "    </tr>\n",
              "    <tr>\n",
              "      <th>6</th>\n",
              "      <td>Total Trade Quantity</td>\n",
              "      <td>0.0</td>\n",
              "    </tr>\n",
              "    <tr>\n",
              "      <th>7</th>\n",
              "      <td>Turnover (Lacs)</td>\n",
              "      <td>0.0</td>\n",
              "    </tr>\n",
              "  </tbody>\n",
              "</table>\n",
              "</div>\n",
              "      <button class=\"colab-df-convert\" onclick=\"convertToInteractive('df-b9613f31-b2f6-4ea1-a060-4dfb436f19ce')\"\n",
              "              title=\"Convert this dataframe to an interactive table.\"\n",
              "              style=\"display:none;\">\n",
              "        \n",
              "  <svg xmlns=\"http://www.w3.org/2000/svg\" height=\"24px\"viewBox=\"0 0 24 24\"\n",
              "       width=\"24px\">\n",
              "    <path d=\"M0 0h24v24H0V0z\" fill=\"none\"/>\n",
              "    <path d=\"M18.56 5.44l.94 2.06.94-2.06 2.06-.94-2.06-.94-.94-2.06-.94 2.06-2.06.94zm-11 1L8.5 8.5l.94-2.06 2.06-.94-2.06-.94L8.5 2.5l-.94 2.06-2.06.94zm10 10l.94 2.06.94-2.06 2.06-.94-2.06-.94-.94-2.06-.94 2.06-2.06.94z\"/><path d=\"M17.41 7.96l-1.37-1.37c-.4-.4-.92-.59-1.43-.59-.52 0-1.04.2-1.43.59L10.3 9.45l-7.72 7.72c-.78.78-.78 2.05 0 2.83L4 21.41c.39.39.9.59 1.41.59.51 0 1.02-.2 1.41-.59l7.78-7.78 2.81-2.81c.8-.78.8-2.07 0-2.86zM5.41 20L4 18.59l7.72-7.72 1.47 1.35L5.41 20z\"/>\n",
              "  </svg>\n",
              "      </button>\n",
              "      \n",
              "  <style>\n",
              "    .colab-df-container {\n",
              "      display:flex;\n",
              "      flex-wrap:wrap;\n",
              "      gap: 12px;\n",
              "    }\n",
              "\n",
              "    .colab-df-convert {\n",
              "      background-color: #E8F0FE;\n",
              "      border: none;\n",
              "      border-radius: 50%;\n",
              "      cursor: pointer;\n",
              "      display: none;\n",
              "      fill: #1967D2;\n",
              "      height: 32px;\n",
              "      padding: 0 0 0 0;\n",
              "      width: 32px;\n",
              "    }\n",
              "\n",
              "    .colab-df-convert:hover {\n",
              "      background-color: #E2EBFA;\n",
              "      box-shadow: 0px 1px 2px rgba(60, 64, 67, 0.3), 0px 1px 3px 1px rgba(60, 64, 67, 0.15);\n",
              "      fill: #174EA6;\n",
              "    }\n",
              "\n",
              "    [theme=dark] .colab-df-convert {\n",
              "      background-color: #3B4455;\n",
              "      fill: #D2E3FC;\n",
              "    }\n",
              "\n",
              "    [theme=dark] .colab-df-convert:hover {\n",
              "      background-color: #434B5C;\n",
              "      box-shadow: 0px 1px 3px 1px rgba(0, 0, 0, 0.15);\n",
              "      filter: drop-shadow(0px 1px 2px rgba(0, 0, 0, 0.3));\n",
              "      fill: #FFFFFF;\n",
              "    }\n",
              "  </style>\n",
              "\n",
              "      <script>\n",
              "        const buttonEl =\n",
              "          document.querySelector('#df-b9613f31-b2f6-4ea1-a060-4dfb436f19ce button.colab-df-convert');\n",
              "        buttonEl.style.display =\n",
              "          google.colab.kernel.accessAllowed ? 'block' : 'none';\n",
              "\n",
              "        async function convertToInteractive(key) {\n",
              "          const element = document.querySelector('#df-b9613f31-b2f6-4ea1-a060-4dfb436f19ce');\n",
              "          const dataTable =\n",
              "            await google.colab.kernel.invokeFunction('convertToInteractive',\n",
              "                                                     [key], {});\n",
              "          if (!dataTable) return;\n",
              "\n",
              "          const docLinkHtml = 'Like what you see? Visit the ' +\n",
              "            '<a target=\"_blank\" href=https://colab.research.google.com/notebooks/data_table.ipynb>data table notebook</a>'\n",
              "            + ' to learn more about interactive tables.';\n",
              "          element.innerHTML = '';\n",
              "          dataTable['output_type'] = 'display_data';\n",
              "          await google.colab.output.renderOutput(dataTable, element);\n",
              "          const docLink = document.createElement('div');\n",
              "          docLink.innerHTML = docLinkHtml;\n",
              "          element.appendChild(docLink);\n",
              "        }\n",
              "      </script>\n",
              "    </div>\n",
              "  </div>\n",
              "  "
            ]
          },
          "metadata": {},
          "execution_count": 124
        }
      ],
      "source": [
        "nan_values = [(c, df[c].isnull().mean()*100) for c in df]\n",
        "nan_values = pd.DataFrame(nan_values, columns=['column_name', 'percentage'])\n",
        "nan_values"
      ]
    },
    {
      "cell_type": "code",
      "execution_count": null,
      "id": "e6bc6cff",
      "metadata": {
        "colab": {
          "base_uri": "https://localhost:8080/",
          "height": 206
        },
        "id": "e6bc6cff",
        "outputId": "15ad1f63-3c49-40c6-b470-363e1b793a61"
      },
      "outputs": [
        {
          "output_type": "execute_result",
          "data": {
            "text/plain": [
              "            Date   Open    High     Low    Last   Close  Total Trade Quantity  \\\n",
              "2034  2010-07-21  122.1  123.00  121.05  121.10  121.55                658666   \n",
              "2033  2010-07-22  120.3  122.00  120.25  120.75  120.90                293312   \n",
              "2032  2010-07-23  121.8  121.95  120.25  120.35  120.65                281312   \n",
              "2031  2010-07-26  120.1  121.00  117.10  117.10  117.60                658440   \n",
              "2030  2010-07-27  117.6  119.50  112.00  118.80  118.65                586100   \n",
              "\n",
              "      Turnover (Lacs)  \n",
              "2034           803.56  \n",
              "2033           355.17  \n",
              "2032           340.31  \n",
              "2031           780.01  \n",
              "2030           694.98  "
            ],
            "text/html": [
              "\n",
              "  <div id=\"df-c5aed4d3-66ee-4f46-9537-4c5f5cc328ba\">\n",
              "    <div class=\"colab-df-container\">\n",
              "      <div>\n",
              "<style scoped>\n",
              "    .dataframe tbody tr th:only-of-type {\n",
              "        vertical-align: middle;\n",
              "    }\n",
              "\n",
              "    .dataframe tbody tr th {\n",
              "        vertical-align: top;\n",
              "    }\n",
              "\n",
              "    .dataframe thead th {\n",
              "        text-align: right;\n",
              "    }\n",
              "</style>\n",
              "<table border=\"1\" class=\"dataframe\">\n",
              "  <thead>\n",
              "    <tr style=\"text-align: right;\">\n",
              "      <th></th>\n",
              "      <th>Date</th>\n",
              "      <th>Open</th>\n",
              "      <th>High</th>\n",
              "      <th>Low</th>\n",
              "      <th>Last</th>\n",
              "      <th>Close</th>\n",
              "      <th>Total Trade Quantity</th>\n",
              "      <th>Turnover (Lacs)</th>\n",
              "    </tr>\n",
              "  </thead>\n",
              "  <tbody>\n",
              "    <tr>\n",
              "      <th>2034</th>\n",
              "      <td>2010-07-21</td>\n",
              "      <td>122.1</td>\n",
              "      <td>123.00</td>\n",
              "      <td>121.05</td>\n",
              "      <td>121.10</td>\n",
              "      <td>121.55</td>\n",
              "      <td>658666</td>\n",
              "      <td>803.56</td>\n",
              "    </tr>\n",
              "    <tr>\n",
              "      <th>2033</th>\n",
              "      <td>2010-07-22</td>\n",
              "      <td>120.3</td>\n",
              "      <td>122.00</td>\n",
              "      <td>120.25</td>\n",
              "      <td>120.75</td>\n",
              "      <td>120.90</td>\n",
              "      <td>293312</td>\n",
              "      <td>355.17</td>\n",
              "    </tr>\n",
              "    <tr>\n",
              "      <th>2032</th>\n",
              "      <td>2010-07-23</td>\n",
              "      <td>121.8</td>\n",
              "      <td>121.95</td>\n",
              "      <td>120.25</td>\n",
              "      <td>120.35</td>\n",
              "      <td>120.65</td>\n",
              "      <td>281312</td>\n",
              "      <td>340.31</td>\n",
              "    </tr>\n",
              "    <tr>\n",
              "      <th>2031</th>\n",
              "      <td>2010-07-26</td>\n",
              "      <td>120.1</td>\n",
              "      <td>121.00</td>\n",
              "      <td>117.10</td>\n",
              "      <td>117.10</td>\n",
              "      <td>117.60</td>\n",
              "      <td>658440</td>\n",
              "      <td>780.01</td>\n",
              "    </tr>\n",
              "    <tr>\n",
              "      <th>2030</th>\n",
              "      <td>2010-07-27</td>\n",
              "      <td>117.6</td>\n",
              "      <td>119.50</td>\n",
              "      <td>112.00</td>\n",
              "      <td>118.80</td>\n",
              "      <td>118.65</td>\n",
              "      <td>586100</td>\n",
              "      <td>694.98</td>\n",
              "    </tr>\n",
              "  </tbody>\n",
              "</table>\n",
              "</div>\n",
              "      <button class=\"colab-df-convert\" onclick=\"convertToInteractive('df-c5aed4d3-66ee-4f46-9537-4c5f5cc328ba')\"\n",
              "              title=\"Convert this dataframe to an interactive table.\"\n",
              "              style=\"display:none;\">\n",
              "        \n",
              "  <svg xmlns=\"http://www.w3.org/2000/svg\" height=\"24px\"viewBox=\"0 0 24 24\"\n",
              "       width=\"24px\">\n",
              "    <path d=\"M0 0h24v24H0V0z\" fill=\"none\"/>\n",
              "    <path d=\"M18.56 5.44l.94 2.06.94-2.06 2.06-.94-2.06-.94-.94-2.06-.94 2.06-2.06.94zm-11 1L8.5 8.5l.94-2.06 2.06-.94-2.06-.94L8.5 2.5l-.94 2.06-2.06.94zm10 10l.94 2.06.94-2.06 2.06-.94-2.06-.94-.94-2.06-.94 2.06-2.06.94z\"/><path d=\"M17.41 7.96l-1.37-1.37c-.4-.4-.92-.59-1.43-.59-.52 0-1.04.2-1.43.59L10.3 9.45l-7.72 7.72c-.78.78-.78 2.05 0 2.83L4 21.41c.39.39.9.59 1.41.59.51 0 1.02-.2 1.41-.59l7.78-7.78 2.81-2.81c.8-.78.8-2.07 0-2.86zM5.41 20L4 18.59l7.72-7.72 1.47 1.35L5.41 20z\"/>\n",
              "  </svg>\n",
              "      </button>\n",
              "      \n",
              "  <style>\n",
              "    .colab-df-container {\n",
              "      display:flex;\n",
              "      flex-wrap:wrap;\n",
              "      gap: 12px;\n",
              "    }\n",
              "\n",
              "    .colab-df-convert {\n",
              "      background-color: #E8F0FE;\n",
              "      border: none;\n",
              "      border-radius: 50%;\n",
              "      cursor: pointer;\n",
              "      display: none;\n",
              "      fill: #1967D2;\n",
              "      height: 32px;\n",
              "      padding: 0 0 0 0;\n",
              "      width: 32px;\n",
              "    }\n",
              "\n",
              "    .colab-df-convert:hover {\n",
              "      background-color: #E2EBFA;\n",
              "      box-shadow: 0px 1px 2px rgba(60, 64, 67, 0.3), 0px 1px 3px 1px rgba(60, 64, 67, 0.15);\n",
              "      fill: #174EA6;\n",
              "    }\n",
              "\n",
              "    [theme=dark] .colab-df-convert {\n",
              "      background-color: #3B4455;\n",
              "      fill: #D2E3FC;\n",
              "    }\n",
              "\n",
              "    [theme=dark] .colab-df-convert:hover {\n",
              "      background-color: #434B5C;\n",
              "      box-shadow: 0px 1px 3px 1px rgba(0, 0, 0, 0.15);\n",
              "      filter: drop-shadow(0px 1px 2px rgba(0, 0, 0, 0.3));\n",
              "      fill: #FFFFFF;\n",
              "    }\n",
              "  </style>\n",
              "\n",
              "      <script>\n",
              "        const buttonEl =\n",
              "          document.querySelector('#df-c5aed4d3-66ee-4f46-9537-4c5f5cc328ba button.colab-df-convert');\n",
              "        buttonEl.style.display =\n",
              "          google.colab.kernel.accessAllowed ? 'block' : 'none';\n",
              "\n",
              "        async function convertToInteractive(key) {\n",
              "          const element = document.querySelector('#df-c5aed4d3-66ee-4f46-9537-4c5f5cc328ba');\n",
              "          const dataTable =\n",
              "            await google.colab.kernel.invokeFunction('convertToInteractive',\n",
              "                                                     [key], {});\n",
              "          if (!dataTable) return;\n",
              "\n",
              "          const docLinkHtml = 'Like what you see? Visit the ' +\n",
              "            '<a target=\"_blank\" href=https://colab.research.google.com/notebooks/data_table.ipynb>data table notebook</a>'\n",
              "            + ' to learn more about interactive tables.';\n",
              "          element.innerHTML = '';\n",
              "          dataTable['output_type'] = 'display_data';\n",
              "          await google.colab.output.renderOutput(dataTable, element);\n",
              "          const docLink = document.createElement('div');\n",
              "          docLink.innerHTML = docLinkHtml;\n",
              "          element.appendChild(docLink);\n",
              "        }\n",
              "      </script>\n",
              "    </div>\n",
              "  </div>\n",
              "  "
            ]
          },
          "metadata": {},
          "execution_count": 125
        }
      ],
      "source": [
        "df_sorted=df.sort_values(by='Date')\n",
        "df_sorted.head()"
      ]
    },
    {
      "cell_type": "code",
      "execution_count": null,
      "id": "0c43926a",
      "metadata": {
        "id": "0c43926a"
      },
      "outputs": [],
      "source": [
        "df_sorted.reset_index(inplace=True) "
      ]
    },
    {
      "cell_type": "markdown",
      "id": "0830a6f5",
      "metadata": {
        "id": "0830a6f5"
      },
      "source": [
        "## Data Visualization 😎📉📈📊"
      ]
    },
    {
      "cell_type": "markdown",
      "id": "79f9f0fa",
      "metadata": {
        "id": "79f9f0fa"
      },
      "source": [
        "#### Plotting the graph for the Date and Close "
      ]
    },
    {
      "cell_type": "code",
      "execution_count": null,
      "id": "7e25dc43",
      "metadata": {
        "colab": {
          "base_uri": "https://localhost:8080/",
          "height": 446
        },
        "id": "7e25dc43",
        "outputId": "704fac1a-577f-4678-80eb-a420d26e3b9b"
      },
      "outputs": [
        {
          "output_type": "execute_result",
          "data": {
            "text/plain": [
              "[<matplotlib.lines.Line2D at 0x7fae6c376c50>]"
            ]
          },
          "metadata": {},
          "execution_count": 127
        },
        {
          "output_type": "display_data",
          "data": {
            "text/plain": [
              "<Figure size 720x504 with 1 Axes>"
            ],
            "image/png": "[encoded data removed]"
          },
          "metadata": {
            "needs_background": "light"
          }
        }
      ],
      "source": [
        "plt.figure(figsize=(10,7))\n",
        "plt.plot(df_sorted['Date'],df_sorted['Close']) "
      ]
    },
    {
      "cell_type": "code",
      "execution_count": null,
      "id": "5be3cbe8",
      "metadata": {
        "colab": {
          "base_uri": "https://localhost:8080/"
        },
        "id": "5be3cbe8",
        "outputId": "f508d3a3-24fb-43f1-f8ca-57ba0ead888f"
      },
      "outputs": [
        {
          "output_type": "execute_result",
          "data": {
            "text/plain": [
              "0       121.55\n",
              "1       120.90\n",
              "2       120.65\n",
              "3       117.60\n",
              "4       118.65\n",
              "         ...  \n",
              "2030    233.30\n",
              "2031    236.10\n",
              "2032    234.25\n",
              "2033    233.25\n",
              "2034    233.75\n",
              "Name: Close, Length: 2035, dtype: float64"
            ]
          },
          "metadata": {},
          "execution_count": 128
        }
      ],
      "source": [
        "close = df_sorted['Close']\n",
        "close"
      ]
    },
    {
      "cell_type": "markdown",
      "source": [
        "Helper function"
      ],
      "metadata": {
        "id": "Tfo2vo9Nwu53"
      },
      "id": "Tfo2vo9Nwu53"
    },
    {
      "cell_type": "code",
      "source": [
        "def plot_series(time, series, format=\"-\", start=0, end=None):\n",
        "    # Setup dimensions of the graph figure\n",
        "    plt.figure(figsize=(10, 6))\n",
        "    \n",
        "    if type(series) is tuple:\n",
        "\n",
        "      for series_num in series:\n",
        "        # Plot the time series data\n",
        "        plt.plot(time[start:end], series_num[start:end], format)\n",
        "\n",
        "    else:\n",
        "      # Plot the time series data\n",
        "      plt.plot(time[start:end], series[start:end], format)\n",
        "\n",
        "    # Label the x-axis\n",
        "    plt.xlabel(\"Time\")\n",
        "\n",
        "    # Label the y-axis\n",
        "    plt.ylabel(\"Value\")\n",
        "\n",
        "    # Overlay a grid on the graph\n",
        "    plt.grid(True)\n",
        "\n",
        "    # Draw the graph on screen\n",
        "    plt.show()\n"
      ],
      "metadata": {
        "id": "UOWhZ4glws4C"
      },
      "id": "UOWhZ4glws4C",
      "execution_count": null,
      "outputs": []
    },
    {
      "cell_type": "markdown",
      "id": "6b86526c",
      "metadata": {
        "id": "6b86526c"
      },
      "source": [
        "## Feature Scaling(MinMax Scaler) ⚖️"
      ]
    },
    {
      "cell_type": "code",
      "execution_count": null,
      "id": "7c536348",
      "metadata": {
        "colab": {
          "base_uri": "https://localhost:8080/"
        },
        "id": "7c536348",
        "outputId": "29f0280e-ff35-4f38-c7dd-cd584761f1f6"
      },
      "outputs": [
        {
          "output_type": "execute_result",
          "data": {
            "text/plain": [
              "array([[0.16584967],\n",
              "       [0.16319444],\n",
              "       [0.1621732 ],\n",
              "       ...,\n",
              "       [0.62622549],\n",
              "       [0.62214052],\n",
              "       [0.62418301]])"
            ]
          },
          "metadata": {},
          "execution_count": 130
        }
      ],
      "source": [
        "scaler = MinMaxScaler(feature_range=(0,1)) \n",
        "close = scaler.fit_transform(np.array(close).reshape(-1, 1))\n",
        "close"
      ]
    },
    {
      "cell_type": "markdown",
      "id": "159b9243",
      "metadata": {
        "id": "159b9243"
      },
      "source": [
        "Since LSTM are sensitive to the scale of the data, so we apply MinMax Scaler to transform our values between 0 and 1"
      ]
    },
    {
      "cell_type": "markdown",
      "id": "57af8bee",
      "metadata": {
        "id": "57af8bee"
      },
      "source": [
        "## Splitting the dataset"
      ]
    },
    {
      "cell_type": "code",
      "execution_count": null,
      "id": "b57617a5",
      "metadata": {
        "id": "b57617a5"
      },
      "outputs": [],
      "source": [
        "train_size = int(len(close)*0.7)\n",
        "test_size = len(close) - train_size\n",
        "train_data,test_data = close[0:train_size,:],close[train_size:len(close),:1]"
      ]
    },
    {
      "cell_type": "code",
      "execution_count": null,
      "id": "45b17ca2",
      "metadata": {
        "colab": {
          "base_uri": "https://localhost:8080/"
        },
        "id": "45b17ca2",
        "outputId": "fe6ec225-24c5-46db-b49e-d75331a2aae7"
      },
      "outputs": [
        {
          "output_type": "execute_result",
          "data": {
            "text/plain": [
              "(1424, 1)"
            ]
          },
          "metadata": {},
          "execution_count": 132
        }
      ],
      "source": [
        "train_data.shape"
      ]
    },
    {
      "cell_type": "code",
      "execution_count": null,
      "id": "5463645e",
      "metadata": {
        "colab": {
          "base_uri": "https://localhost:8080/"
        },
        "id": "5463645e",
        "outputId": "074e6c5f-61c2-49f5-a348-148bbc2f00a7"
      },
      "outputs": [
        {
          "output_type": "execute_result",
          "data": {
            "text/plain": [
              "(611, 1)"
            ]
          },
          "metadata": {},
          "execution_count": 133
        }
      ],
      "source": [
        "test_data.shape"
      ]
    },
    {
      "cell_type": "markdown",
      "id": "7f4b080a",
      "metadata": {
        "id": "7f4b080a"
      },
      "source": [
        "## convert an array of values into a dataset matrix 🤓🤓🤓"
      ]
    },
    {
      "cell_type": "code",
      "execution_count": null,
      "id": "e4af2533",
      "metadata": {
        "id": "e4af2533"
      },
      "outputs": [],
      "source": [
        "def dataset(dataset, time_step=1):\n",
        "    dataX, dataY = [], []\n",
        "    for i in range(len(dataset)-time_step-1):\n",
        "        a = dataset[i:(i+time_step), 0]  \n",
        "        dataX.append(a)\n",
        "        dataY.append(dataset[i + time_step, 0])\n",
        "    return np.array(dataX), np.array(dataY)"
      ]
    },
    {
      "cell_type": "markdown",
      "id": "f2588179",
      "metadata": {
        "id": "f2588179"
      },
      "source": [
        "## Reshaping of dataset"
      ]
    },
    {
      "cell_type": "code",
      "execution_count": null,
      "id": "88b79e09",
      "metadata": {
        "id": "88b79e09"
      },
      "outputs": [],
      "source": [
        "time_step = 100\n",
        "X_train, y_train = dataset(train_data, time_step)\n",
        "X_test, y_test = dataset(test_data, time_step)"
      ]
    },
    {
      "cell_type": "code",
      "execution_count": null,
      "id": "6fae8cd4",
      "metadata": {
        "colab": {
          "base_uri": "https://localhost:8080/"
        },
        "id": "6fae8cd4",
        "outputId": "d491c0dd-9f3d-4570-d6df-842ca95cc163"
      },
      "outputs": [
        {
          "output_type": "stream",
          "name": "stdout",
          "text": [
            "(1323, 100)\n",
            "(1323,)\n"
          ]
        },
        {
          "output_type": "execute_result",
          "data": {
            "text/plain": [
              "(None, None)"
            ]
          },
          "metadata": {},
          "execution_count": 136
        }
      ],
      "source": [
        "print(X_train.shape), print(y_train.shape)"
      ]
    },
    {
      "cell_type": "code",
      "execution_count": null,
      "id": "abf397b1",
      "metadata": {
        "colab": {
          "base_uri": "https://localhost:8080/"
        },
        "id": "abf397b1",
        "outputId": "a04e67c0-85c4-4ebc-fd39-df581106444b"
      },
      "outputs": [
        {
          "output_type": "stream",
          "name": "stdout",
          "text": [
            "(510, 100)\n",
            "(510,)\n"
          ]
        },
        {
          "output_type": "execute_result",
          "data": {
            "text/plain": [
              "(None, None)"
            ]
          },
          "metadata": {},
          "execution_count": 137
        }
      ],
      "source": [
        "print(X_test.shape), print(y_test.shape)"
      ]
    },
    {
      "cell_type": "code",
      "execution_count": null,
      "id": "04fd6f1f",
      "metadata": {
        "id": "04fd6f1f"
      },
      "outputs": [],
      "source": [
        "X_train =X_train.reshape(X_train.shape[0],X_train.shape[1] , 1)\n",
        "X_test = X_test.reshape(X_test.shape[0],X_test.shape[1] , 1)"
      ]
    },
    {
      "cell_type": "markdown",
      "id": "01b910b1",
      "metadata": {
        "id": "01b910b1"
      },
      "source": [
        "## Let's Create the stacked LSTM Model 🎉🎉🎉"
      ]
    },
    {
      "cell_type": "code",
      "execution_count": null,
      "id": "b12e3fe4",
      "metadata": {
        "id": "b12e3fe4"
      },
      "outputs": [],
      "source": [
        "import tensorflow as tf"
      ]
    },
    {
      "cell_type": "code",
      "execution_count": null,
      "id": "6f233b44",
      "metadata": {
        "colab": {
          "base_uri": "https://localhost:8080/"
        },
        "id": "6f233b44",
        "outputId": "1144d877-d891-4be5-e32c-2d8e1fc2fb21"
      },
      "outputs": [
        {
          "output_type": "stream",
          "name": "stdout",
          "text": [
            "Model: \"sequential_2\"\n",
            "_________________________________________________________________\n",
            " Layer (type)                Output Shape              Param #   \n",
            "=================================================================\n",
            " lstm_8 (LSTM)               (None, 100, 40)           6720      \n",
            "                                                                 \n",
            " lstm_9 (LSTM)               (None, 100, 40)           12960     \n",
            "                                                                 \n",
            " lstm_10 (LSTM)              (None, 100, 40)           12960     \n",
            "                                                                 \n",
            " lstm_11 (LSTM)              (None, 40)                12960     \n",
            "                                                                 \n",
            " dense_2 (Dense)             (None, 1)                 41        \n",
            "                                                                 \n",
            "=================================================================\n",
            "Total params: 45,641\n",
            "Trainable params: 45,641\n",
            "Non-trainable params: 0\n",
            "_________________________________________________________________\n"
          ]
        }
      ],
      "source": [
        "#Creating the LSTM model\n",
        "model=tf.keras.models.Sequential([\n",
        "tf.keras.layers.LSTM(40,return_sequences=True,input_shape=(100,1)),\n",
        "tf.keras.layers.LSTM(40,return_sequences=True),\n",
        "tf.keras.layers.LSTM(40,return_sequences=True),\n",
        "tf.keras.layers.LSTM(40),\n",
        "tf.keras.layers.Dense(1)\n",
        "])\n",
        "model.summary()"
      ]
    },
    {
      "cell_type": "code",
      "source": [
        "model.compile(loss='mean_squared_error',optimizer=tf.keras.optimizers.SGD(momentum=0.9))"
      ],
      "metadata": {
        "id": "kj8fKl3Bs_ZD"
      },
      "id": "kj8fKl3Bs_ZD",
      "execution_count": null,
      "outputs": []
    },
    {
      "cell_type": "markdown",
      "id": "62f19c01",
      "metadata": {
        "id": "62f19c01"
      },
      "source": [
        "## Let's Predict 🪄🧙🧙"
      ]
    },
    {
      "cell_type": "code",
      "execution_count": null,
      "id": "39053f11",
      "metadata": {
        "colab": {
          "base_uri": "https://localhost:8080/"
        },
        "id": "39053f11",
        "outputId": "dcea7734-2d48-4266-a8f8-e76a1cbe2ea6"
      },
      "outputs": [
        {
          "output_type": "stream",
          "name": "stdout",
          "text": [
            "Epoch 1/50\n",
            "19/19 [==============================] - 32s 899ms/step - loss: 0.0191 - val_loss: 0.0026\n",
            "Epoch 2/50\n",
            "19/19 [==============================] - 5s 270ms/step - loss: 0.0105 - val_loss: 0.0024\n",
            "Epoch 3/50\n",
            "19/19 [==============================] - 4s 209ms/step - loss: 0.0087 - val_loss: 0.0022\n",
            "Epoch 4/50\n",
            "19/19 [==============================] - 4s 208ms/step - loss: 0.0076 - val_loss: 0.0022\n",
            "Epoch 5/50\n",
            "19/19 [==============================] - 4s 206ms/step - loss: 0.0065 - val_loss: 0.0020\n",
            "Epoch 6/50\n",
            "19/19 [==============================] - 4s 215ms/step - loss: 0.0052 - val_loss: 0.0026\n",
            "Epoch 7/50\n",
            "19/19 [==============================] - 4s 209ms/step - loss: 0.0038 - val_loss: 0.0019\n",
            "Epoch 8/50\n",
            "19/19 [==============================] - 4s 212ms/step - loss: 0.0024 - val_loss: 0.0017\n",
            "Epoch 9/50\n",
            "19/19 [==============================] - 4s 209ms/step - loss: 0.0016 - val_loss: 0.0019\n",
            "Epoch 10/50\n",
            "19/19 [==============================] - 4s 209ms/step - loss: 0.0013 - val_loss: 0.0020\n",
            "Epoch 11/50\n",
            "19/19 [==============================] - 4s 211ms/step - loss: 0.0013 - val_loss: 0.0019\n",
            "Epoch 12/50\n",
            "19/19 [==============================] - 4s 211ms/step - loss: 0.0013 - val_loss: 0.0020\n",
            "Epoch 13/50\n",
            "19/19 [==============================] - 4s 209ms/step - loss: 0.0013 - val_loss: 0.0018\n",
            "Epoch 14/50\n",
            "19/19 [==============================] - 4s 207ms/step - loss: 0.0013 - val_loss: 0.0019\n",
            "Epoch 15/50\n",
            "19/19 [==============================] - 4s 210ms/step - loss: 0.0013 - val_loss: 0.0019\n",
            "Epoch 16/50\n",
            "19/19 [==============================] - 4s 208ms/step - loss: 0.0013 - val_loss: 0.0019\n",
            "Epoch 17/50\n",
            "19/19 [==============================] - 4s 211ms/step - loss: 0.0013 - val_loss: 0.0019\n",
            "Epoch 18/50\n",
            "19/19 [==============================] - 4s 206ms/step - loss: 0.0013 - val_loss: 0.0019\n",
            "Epoch 19/50\n",
            "19/19 [==============================] - 4s 208ms/step - loss: 0.0013 - val_loss: 0.0018\n",
            "Epoch 20/50\n",
            "19/19 [==============================] - 5s 277ms/step - loss: 0.0013 - val_loss: 0.0020\n",
            "Epoch 21/50\n",
            "19/19 [==============================] - 4s 213ms/step - loss: 0.0013 - val_loss: 0.0019\n",
            "Epoch 22/50\n",
            "19/19 [==============================] - 5s 288ms/step - loss: 0.0013 - val_loss: 0.0018\n",
            "Epoch 23/50\n",
            "19/19 [==============================] - 4s 203ms/step - loss: 0.0013 - val_loss: 0.0019\n",
            "Epoch 24/50\n",
            "19/19 [==============================] - 4s 211ms/step - loss: 0.0013 - val_loss: 0.0019\n",
            "Epoch 25/50\n",
            "19/19 [==============================] - 4s 207ms/step - loss: 0.0012 - val_loss: 0.0019\n",
            "Epoch 26/50\n",
            "19/19 [==============================] - 4s 208ms/step - loss: 0.0012 - val_loss: 0.0018\n",
            "Epoch 27/50\n",
            "19/19 [==============================] - 4s 238ms/step - loss: 0.0013 - val_loss: 0.0019\n",
            "Epoch 28/50\n",
            "19/19 [==============================] - 4s 205ms/step - loss: 0.0013 - val_loss: 0.0018\n",
            "Epoch 29/50\n",
            "19/19 [==============================] - 4s 206ms/step - loss: 0.0013 - val_loss: 0.0018\n",
            "Epoch 30/50\n",
            "19/19 [==============================] - 4s 209ms/step - loss: 0.0012 - val_loss: 0.0019\n",
            "Epoch 31/50\n",
            "19/19 [==============================] - 4s 209ms/step - loss: 0.0012 - val_loss: 0.0018\n",
            "Epoch 32/50\n",
            "19/19 [==============================] - 4s 208ms/step - loss: 0.0013 - val_loss: 0.0018\n",
            "Epoch 33/50\n",
            "19/19 [==============================] - 4s 207ms/step - loss: 0.0012 - val_loss: 0.0020\n",
            "Epoch 34/50\n",
            "19/19 [==============================] - 4s 210ms/step - loss: 0.0012 - val_loss: 0.0018\n",
            "Epoch 35/50\n",
            "19/19 [==============================] - 4s 238ms/step - loss: 0.0012 - val_loss: 0.0018\n",
            "Epoch 36/50\n",
            "19/19 [==============================] - 4s 212ms/step - loss: 0.0012 - val_loss: 0.0019\n",
            "Epoch 37/50\n",
            "19/19 [==============================] - 4s 208ms/step - loss: 0.0012 - val_loss: 0.0018\n",
            "Epoch 38/50\n",
            "19/19 [==============================] - 4s 209ms/step - loss: 0.0012 - val_loss: 0.0019\n",
            "Epoch 39/50\n",
            "19/19 [==============================] - 4s 209ms/step - loss: 0.0012 - val_loss: 0.0018\n",
            "Epoch 40/50\n",
            "19/19 [==============================] - 4s 208ms/step - loss: 0.0012 - val_loss: 0.0018\n",
            "Epoch 41/50\n",
            "19/19 [==============================] - 4s 210ms/step - loss: 0.0012 - val_loss: 0.0018\n",
            "Epoch 42/50\n",
            "19/19 [==============================] - 4s 212ms/step - loss: 0.0012 - val_loss: 0.0018\n",
            "Epoch 43/50\n",
            "19/19 [==============================] - 4s 209ms/step - loss: 0.0012 - val_loss: 0.0018\n",
            "Epoch 44/50\n",
            "19/19 [==============================] - 4s 211ms/step - loss: 0.0012 - val_loss: 0.0019\n",
            "Epoch 45/50\n",
            "19/19 [==============================] - 4s 210ms/step - loss: 0.0012 - val_loss: 0.0017\n",
            "Epoch 46/50\n",
            "19/19 [==============================] - 4s 212ms/step - loss: 0.0012 - val_loss: 0.0019\n",
            "Epoch 47/50\n",
            "19/19 [==============================] - 4s 216ms/step - loss: 0.0012 - val_loss: 0.0017\n",
            "Epoch 48/50\n",
            "19/19 [==============================] - 4s 209ms/step - loss: 0.0012 - val_loss: 0.0019\n",
            "Epoch 49/50\n",
            "19/19 [==============================] - 4s 215ms/step - loss: 0.0012 - val_loss: 0.0018\n",
            "Epoch 50/50\n",
            "19/19 [==============================] - 4s 208ms/step - loss: 0.0012 - val_loss: 0.0017\n"
          ]
        },
        {
          "output_type": "execute_result",
          "data": {
            "text/plain": [
              "<keras.callbacks.History at 0x7fae6f6b7410>"
            ]
          },
          "metadata": {},
          "execution_count": 143
        }
      ],
      "source": [
        "model.fit(X_train,y_train,validation_split=0.1,epochs=50,batch_size=64)"
      ]
    },
    {
      "cell_type": "code",
      "execution_count": null,
      "id": "0a1bea77",
      "metadata": {
        "colab": {
          "base_uri": "https://localhost:8080/"
        },
        "id": "0a1bea77",
        "outputId": "95338013-3b64-4219-ca39-35ba6aa1d437"
      },
      "outputs": [
        {
          "output_type": "stream",
          "name": "stdout",
          "text": [
            "42/42 [==============================] - 5s 77ms/step\n",
            "16/16 [==============================] - 1s 40ms/step\n"
          ]
        }
      ],
      "source": [
        "train_predict = model.predict(X_train)\n",
        "test_predict = model.predict(X_test)"
      ]
    },
    {
      "cell_type": "code",
      "execution_count": null,
      "id": "021c7ef8",
      "metadata": {
        "id": "021c7ef8"
      },
      "outputs": [],
      "source": [
        "train_predict = scaler.inverse_transform(train_predict)\n",
        "test_predict=scaler.inverse_transform(test_predict)"
      ]
    },
    {
      "cell_type": "markdown",
      "id": "e9bf6cea",
      "metadata": {
        "id": "e9bf6cea"
      },
      "source": [
        "## Checking the Performance 🛫🛫"
      ]
    },
    {
      "cell_type": "code",
      "execution_count": null,
      "id": "b2cc38dc",
      "metadata": {
        "id": "b2cc38dc"
      },
      "outputs": [],
      "source": [
        "import math"
      ]
    },
    {
      "cell_type": "code",
      "execution_count": null,
      "id": "9d074503",
      "metadata": {
        "colab": {
          "base_uri": "https://localhost:8080/"
        },
        "id": "9d074503",
        "outputId": "6eafc0aa-01da-4095-f6f7-6eeb4ac838dc"
      },
      "outputs": [
        {
          "output_type": "stream",
          "name": "stdout",
          "text": [
            "189.03015219138982\n"
          ]
        }
      ],
      "source": [
        "mse = tf.keras.metrics.mean_squared_error(y_test,test_predict.squeeze())\n",
        "print(math.sqrt(mse.numpy()))"
      ]
    },
    {
      "cell_type": "code",
      "execution_count": null,
      "id": "8301ffc3",
      "metadata": {
        "colab": {
          "base_uri": "https://localhost:8080/"
        },
        "id": "8301ffc3",
        "outputId": "c78438cd-b195-43b5-e231-c917f1677656"
      },
      "outputs": [
        {
          "output_type": "stream",
          "name": "stdout",
          "text": [
            "The mean absolute error is: 183.95672607421875\n"
          ]
        }
      ],
      "source": [
        "mae = tf.keras.metrics.mean_absolute_error(y_test,test_predict.squeeze())\n",
        "print(f'The mean absolute error is: {(mae.numpy())}')"
      ]
    },
    {
      "cell_type": "markdown",
      "id": "77a072d2",
      "metadata": {
        "id": "77a072d2"
      },
      "source": [
        "#### Plotting the graph with predicted train data, test data with actual data"
      ]
    },
    {
      "cell_type": "code",
      "execution_count": null,
      "id": "e03eb38e",
      "metadata": {
        "colab": {
          "base_uri": "https://localhost:8080/",
          "height": 428
        },
        "id": "e03eb38e",
        "outputId": "f92b3f67-6a40-481b-c647-038ac45cb61c"
      },
      "outputs": [
        {
          "output_type": "display_data",
          "data": {
            "text/plain": [
              "<Figure size 720x504 with 1 Axes>"
            ],
            "image/png": "[encoded data removed]"
          },
          "metadata": {
            "needs_background": "light"
          }
        }
      ],
      "source": [
        "look_back=100\n",
        "\n",
        "# shift train predictions for plotting\n",
        "trainPredictPlot = np.empty_like(close)\n",
        "trainPredictPlot[:, :] = np.nan\n",
        "trainPredictPlot[look_back:len(train_predict)+look_back, :] = train_predict\n",
        "# shift test predictions for plotting\n",
        "testPredictPlot = np.empty_like(close)\n",
        "testPredictPlot[:, :] = np.nan\n",
        "testPredictPlot[len(train_predict)+(look_back*2)+1:len(close)-1, :] = test_predict\n",
        "# plot baseline and predictions\n",
        "plt.figure(figsize=(10,7))\n",
        "plt.plot(scaler.inverse_transform(close))\n",
        "plt.plot(trainPredictPlot)\n",
        "plt.plot(testPredictPlot)\n",
        "plt.show()"
      ]
    },
    {
      "cell_type": "markdown",
      "id": "e41f769c",
      "metadata": {
        "id": "e41f769c"
      },
      "source": [
        "### Prediction for next 30 days"
      ]
    },
    {
      "cell_type": "code",
      "execution_count": null,
      "id": "6daf65bb",
      "metadata": {
        "colab": {
          "base_uri": "https://localhost:8080/"
        },
        "id": "6daf65bb",
        "outputId": "1ad51a0a-7b7c-42cd-cec5-c50cfcfbecaa"
      },
      "outputs": [
        {
          "output_type": "execute_result",
          "data": {
            "text/plain": [
              "611"
            ]
          },
          "metadata": {},
          "execution_count": 150
        }
      ],
      "source": [
        "len(test_data)"
      ]
    },
    {
      "cell_type": "code",
      "execution_count": null,
      "id": "8ba5b1b2",
      "metadata": {
        "colab": {
          "base_uri": "https://localhost:8080/"
        },
        "id": "8ba5b1b2",
        "outputId": "b5681ed2-45fc-4443-a832-e59c7b5091c6"
      },
      "outputs": [
        {
          "output_type": "execute_result",
          "data": {
            "text/plain": [
              "(1, 100)"
            ]
          },
          "metadata": {},
          "execution_count": 151
        }
      ],
      "source": [
        "pred_input=test_data[511:].reshape(1,-1)\n",
        "pred_input.shape"
      ]
    },
    {
      "cell_type": "code",
      "execution_count": null,
      "id": "e6d1e2ec",
      "metadata": {
        "id": "e6d1e2ec"
      },
      "outputs": [],
      "source": [
        "temp_input=list(pred_input)\n",
        "temp_input=temp_input[0].tolist()"
      ]
    },
    {
      "cell_type": "code",
      "execution_count": null,
      "id": "5dbabeb9",
      "metadata": {
        "colab": {
          "base_uri": "https://localhost:8080/"
        },
        "id": "5dbabeb9",
        "outputId": "d12c787d-d6cb-4068-922c-b5d390efb992"
      },
      "outputs": [
        {
          "output_type": "execute_result",
          "data": {
            "text/plain": [
              "[0.8527369281045751,\n",
              " 0.8621323529411764,\n",
              " 0.8345588235294117,\n",
              " 0.84375,\n",
              " 0.7146650326797386,\n",
              " 0.6605392156862745,\n",
              " 0.6542075163398693,\n",
              " 0.6803513071895424,\n",
              " 0.6689133986928104,\n",
              " 0.6642156862745099,\n",
              " 0.678921568627451,\n",
              " 0.6913807189542482,\n",
              " 0.7089460784313726,\n",
              " 0.7226307189542485,\n",
              " 0.7340686274509802,\n",
              " 0.7212009803921569,\n",
              " 0.749795751633987,\n",
              " 0.7689950980392157,\n",
              " 0.7446895424836601,\n",
              " 0.7120098039215685,\n",
              " 0.7467320261437909,\n",
              " 0.7549019607843137,\n",
              " 0.7604166666666667,\n",
              " 0.7598039215686274,\n",
              " 0.7465277777777777,\n",
              " 0.7624591503267975,\n",
              " 0.7706290849673203,\n",
              " 0.8041258169934642,\n",
              " 0.7810457516339868,\n",
              " 0.7941176470588236,\n",
              " 0.7602124183006536,\n",
              " 0.7348856209150327,\n",
              " 0.7240604575163399,\n",
              " 0.7399918300653596,\n",
              " 0.749795751633987,\n",
              " 0.7614379084967322,\n",
              " 0.7542892156862746,\n",
              " 0.7475490196078431,\n",
              " 0.769607843137255,\n",
              " 0.7495915032679739,\n",
              " 0.8171977124183007,\n",
              " 0.8020833333333335,\n",
              " 0.7773692810457518,\n",
              " 0.7571486928104576,\n",
              " 0.7937091503267975,\n",
              " 0.7916666666666667,\n",
              " 0.7714460784313726,\n",
              " 0.7526552287581698,\n",
              " 0.7269199346405228,\n",
              " 0.6629901960784313,\n",
              " 0.6819852941176472,\n",
              " 0.6441993464052288,\n",
              " 0.6215277777777778,\n",
              " 0.6439950980392156,\n",
              " 0.6631944444444445,\n",
              " 0.6754493464052289,\n",
              " 0.6370506535947713,\n",
              " 0.6460375816993464,\n",
              " 0.6589052287581699,\n",
              " 0.6587009803921569,\n",
              " 0.6779003267973858,\n",
              " 0.6319444444444445,\n",
              " 0.6311274509803921,\n",
              " 0.627859477124183,\n",
              " 0.647671568627451,\n",
              " 0.6399101307189542,\n",
              " 0.6348039215686274,\n",
              " 0.6386846405228759,\n",
              " 0.6233660130718954,\n",
              " 0.627450980392157,\n",
              " 0.6397058823529412,\n",
              " 0.6470588235294118,\n",
              " 0.661968954248366,\n",
              " 0.6707516339869282,\n",
              " 0.6519607843137255,\n",
              " 0.6311274509803921,\n",
              " 0.6129493464052288,\n",
              " 0.6376633986928105,\n",
              " 0.6225490196078431,\n",
              " 0.627450980392157,\n",
              " 0.6333741830065359,\n",
              " 0.6264297385620916,\n",
              " 0.6362336601307189,\n",
              " 0.5831290849673202,\n",
              " 0.5778186274509804,\n",
              " 0.5723039215686275,\n",
              " 0.5800653594771241,\n",
              " 0.5761846405228758,\n",
              " 0.5516748366013072,\n",
              " 0.5788398692810458,\n",
              " 0.625,\n",
              " 0.6358251633986928,\n",
              " 0.6294934640522877,\n",
              " 0.6288807189542484,\n",
              " 0.6276552287581699,\n",
              " 0.6223447712418301,\n",
              " 0.6337826797385621,\n",
              " 0.6262254901960784,\n",
              " 0.622140522875817,\n",
              " 0.6241830065359477]"
            ]
          },
          "metadata": {},
          "execution_count": 153
        }
      ],
      "source": [
        "temp_input"
      ]
    },
    {
      "cell_type": "code",
      "execution_count": null,
      "id": "abaad7a0",
      "metadata": {
        "colab": {
          "base_uri": "https://localhost:8080/"
        },
        "id": "abaad7a0",
        "outputId": "2b22b436-edf2-4e5d-bc6f-69e1b1e0d359"
      },
      "outputs": [
        {
          "output_type": "stream",
          "name": "stdout",
          "text": [
            "[0.53611135]\n",
            "101\n",
            "1 day input [0.86213235 0.83455882 0.84375    0.71466503 0.66053922 0.65420752\n",
            " 0.68035131 0.6689134  0.66421569 0.67892157 0.69138072 0.70894608\n",
            " 0.72263072 0.73406863 0.72120098 0.74979575 0.7689951  0.74468954\n",
            " 0.7120098  0.74673203 0.75490196 0.76041667 0.75980392 0.74652778\n",
            " 0.76245915 0.77062908 0.80412582 0.78104575 0.79411765 0.76021242\n",
            " 0.73488562 0.72406046 0.73999183 0.74979575 0.76143791 0.75428922\n",
            " 0.74754902 0.76960784 0.7495915  0.81719771 0.80208333 0.77736928\n",
            " 0.75714869 0.79370915 0.79166667 0.77144608 0.75265523 0.72691993\n",
            " 0.6629902  0.68198529 0.64419935 0.62152778 0.6439951  0.66319444\n",
            " 0.67544935 0.63705065 0.64603758 0.65890523 0.65870098 0.67790033\n",
            " 0.63194444 0.63112745 0.62785948 0.64767157 0.63991013 0.63480392\n",
            " 0.63868464 0.62336601 0.62745098 0.63970588 0.64705882 0.66196895\n",
            " 0.67075163 0.65196078 0.63112745 0.61294935 0.6376634  0.62254902\n",
            " 0.62745098 0.63337418 0.62642974 0.63623366 0.58312908 0.57781863\n",
            " 0.57230392 0.58006536 0.57618464 0.55167484 0.57883987 0.625\n",
            " 0.63582516 0.62949346 0.62888072 0.62765523 0.62234477 0.63378268\n",
            " 0.62622549 0.62214052 0.62418301 0.53611135]\n",
            "1 day output [[0.53578705]]\n",
            "2 day input [0.83455882 0.84375    0.71466503 0.66053922 0.65420752 0.68035131\n",
            " 0.6689134  0.66421569 0.67892157 0.69138072 0.70894608 0.72263072\n",
            " 0.73406863 0.72120098 0.74979575 0.7689951  0.74468954 0.7120098\n",
            " 0.74673203 0.75490196 0.76041667 0.75980392 0.74652778 0.76245915\n",
            " 0.77062908 0.80412582 0.78104575 0.79411765 0.76021242 0.73488562\n",
            " 0.72406046 0.73999183 0.74979575 0.76143791 0.75428922 0.74754902\n",
            " 0.76960784 0.7495915  0.81719771 0.80208333 0.77736928 0.75714869\n",
            " 0.79370915 0.79166667 0.77144608 0.75265523 0.72691993 0.6629902\n",
            " 0.68198529 0.64419935 0.62152778 0.6439951  0.66319444 0.67544935\n",
            " 0.63705065 0.64603758 0.65890523 0.65870098 0.67790033 0.63194444\n",
            " 0.63112745 0.62785948 0.64767157 0.63991013 0.63480392 0.63868464\n",
            " 0.62336601 0.62745098 0.63970588 0.64705882 0.66196895 0.67075163\n",
            " 0.65196078 0.63112745 0.61294935 0.6376634  0.62254902 0.62745098\n",
            " 0.63337418 0.62642974 0.63623366 0.58312908 0.57781863 0.57230392\n",
            " 0.58006536 0.57618464 0.55167484 0.57883987 0.625      0.63582516\n",
            " 0.62949346 0.62888072 0.62765523 0.62234477 0.63378268 0.62622549\n",
            " 0.62214052 0.62418301 0.53611135 0.53578705]\n",
            "2 day output [[0.53548706]]\n",
            "3 day input [0.84375    0.71466503 0.66053922 0.65420752 0.68035131 0.6689134\n",
            " 0.66421569 0.67892157 0.69138072 0.70894608 0.72263072 0.73406863\n",
            " 0.72120098 0.74979575 0.7689951  0.74468954 0.7120098  0.74673203\n",
            " 0.75490196 0.76041667 0.75980392 0.74652778 0.76245915 0.77062908\n",
            " 0.80412582 0.78104575 0.79411765 0.76021242 0.73488562 0.72406046\n",
            " 0.73999183 0.74979575 0.76143791 0.75428922 0.74754902 0.76960784\n",
            " 0.7495915  0.81719771 0.80208333 0.77736928 0.75714869 0.79370915\n",
            " 0.79166667 0.77144608 0.75265523 0.72691993 0.6629902  0.68198529\n",
            " 0.64419935 0.62152778 0.6439951  0.66319444 0.67544935 0.63705065\n",
            " 0.64603758 0.65890523 0.65870098 0.67790033 0.63194444 0.63112745\n",
            " 0.62785948 0.64767157 0.63991013 0.63480392 0.63868464 0.62336601\n",
            " 0.62745098 0.63970588 0.64705882 0.66196895 0.67075163 0.65196078\n",
            " 0.63112745 0.61294935 0.6376634  0.62254902 0.62745098 0.63337418\n",
            " 0.62642974 0.63623366 0.58312908 0.57781863 0.57230392 0.58006536\n",
            " 0.57618464 0.55167484 0.57883987 0.625      0.63582516 0.62949346\n",
            " 0.62888072 0.62765523 0.62234477 0.63378268 0.62622549 0.62214052\n",
            " 0.62418301 0.53611135 0.53578705 0.53548706]\n",
            "3 day output [[0.5351135]]\n",
            "4 day input [0.71466503 0.66053922 0.65420752 0.68035131 0.6689134  0.66421569\n",
            " 0.67892157 0.69138072 0.70894608 0.72263072 0.73406863 0.72120098\n",
            " 0.74979575 0.7689951  0.74468954 0.7120098  0.74673203 0.75490196\n",
            " 0.76041667 0.75980392 0.74652778 0.76245915 0.77062908 0.80412582\n",
            " 0.78104575 0.79411765 0.76021242 0.73488562 0.72406046 0.73999183\n",
            " 0.74979575 0.76143791 0.75428922 0.74754902 0.76960784 0.7495915\n",
            " 0.81719771 0.80208333 0.77736928 0.75714869 0.79370915 0.79166667\n",
            " 0.77144608 0.75265523 0.72691993 0.6629902  0.68198529 0.64419935\n",
            " 0.62152778 0.6439951  0.66319444 0.67544935 0.63705065 0.64603758\n",
            " 0.65890523 0.65870098 0.67790033 0.63194444 0.63112745 0.62785948\n",
            " 0.64767157 0.63991013 0.63480392 0.63868464 0.62336601 0.62745098\n",
            " 0.63970588 0.64705882 0.66196895 0.67075163 0.65196078 0.63112745\n",
            " 0.61294935 0.6376634  0.62254902 0.62745098 0.63337418 0.62642974\n",
            " 0.63623366 0.58312908 0.57781863 0.57230392 0.58006536 0.57618464\n",
            " 0.55167484 0.57883987 0.625      0.63582516 0.62949346 0.62888072\n",
            " 0.62765523 0.62234477 0.63378268 0.62622549 0.62214052 0.62418301\n",
            " 0.53611135 0.53578705 0.53548706 0.53511351]\n",
            "4 day output [[0.5345838]]\n",
            "5 day input [0.66053922 0.65420752 0.68035131 0.6689134  0.66421569 0.67892157\n",
            " 0.69138072 0.70894608 0.72263072 0.73406863 0.72120098 0.74979575\n",
            " 0.7689951  0.74468954 0.7120098  0.74673203 0.75490196 0.76041667\n",
            " 0.75980392 0.74652778 0.76245915 0.77062908 0.80412582 0.78104575\n",
            " 0.79411765 0.76021242 0.73488562 0.72406046 0.73999183 0.74979575\n",
            " 0.76143791 0.75428922 0.74754902 0.76960784 0.7495915  0.81719771\n",
            " 0.80208333 0.77736928 0.75714869 0.79370915 0.79166667 0.77144608\n",
            " 0.75265523 0.72691993 0.6629902  0.68198529 0.64419935 0.62152778\n",
            " 0.6439951  0.66319444 0.67544935 0.63705065 0.64603758 0.65890523\n",
            " 0.65870098 0.67790033 0.63194444 0.63112745 0.62785948 0.64767157\n",
            " 0.63991013 0.63480392 0.63868464 0.62336601 0.62745098 0.63970588\n",
            " 0.64705882 0.66196895 0.67075163 0.65196078 0.63112745 0.61294935\n",
            " 0.6376634  0.62254902 0.62745098 0.63337418 0.62642974 0.63623366\n",
            " 0.58312908 0.57781863 0.57230392 0.58006536 0.57618464 0.55167484\n",
            " 0.57883987 0.625      0.63582516 0.62949346 0.62888072 0.62765523\n",
            " 0.62234477 0.63378268 0.62622549 0.62214052 0.62418301 0.53611135\n",
            " 0.53578705 0.53548706 0.53511351 0.53458381]\n",
            "5 day output [[0.5338374]]\n",
            "6 day input [0.65420752 0.68035131 0.6689134  0.66421569 0.67892157 0.69138072\n",
            " 0.70894608 0.72263072 0.73406863 0.72120098 0.74979575 0.7689951\n",
            " 0.74468954 0.7120098  0.74673203 0.75490196 0.76041667 0.75980392\n",
            " 0.74652778 0.76245915 0.77062908 0.80412582 0.78104575 0.79411765\n",
            " 0.76021242 0.73488562 0.72406046 0.73999183 0.74979575 0.76143791\n",
            " 0.75428922 0.74754902 0.76960784 0.7495915  0.81719771 0.80208333\n",
            " 0.77736928 0.75714869 0.79370915 0.79166667 0.77144608 0.75265523\n",
            " 0.72691993 0.6629902  0.68198529 0.64419935 0.62152778 0.6439951\n",
            " 0.66319444 0.67544935 0.63705065 0.64603758 0.65890523 0.65870098\n",
            " 0.67790033 0.63194444 0.63112745 0.62785948 0.64767157 0.63991013\n",
            " 0.63480392 0.63868464 0.62336601 0.62745098 0.63970588 0.64705882\n",
            " 0.66196895 0.67075163 0.65196078 0.63112745 0.61294935 0.6376634\n",
            " 0.62254902 0.62745098 0.63337418 0.62642974 0.63623366 0.58312908\n",
            " 0.57781863 0.57230392 0.58006536 0.57618464 0.55167484 0.57883987\n",
            " 0.625      0.63582516 0.62949346 0.62888072 0.62765523 0.62234477\n",
            " 0.63378268 0.62622549 0.62214052 0.62418301 0.53611135 0.53578705\n",
            " 0.53548706 0.53511351 0.53458381 0.53383738]\n",
            "6 day output [[0.5328366]]\n",
            "7 day input [0.68035131 0.6689134  0.66421569 0.67892157 0.69138072 0.70894608\n",
            " 0.72263072 0.73406863 0.72120098 0.74979575 0.7689951  0.74468954\n",
            " 0.7120098  0.74673203 0.75490196 0.76041667 0.75980392 0.74652778\n",
            " 0.76245915 0.77062908 0.80412582 0.78104575 0.79411765 0.76021242\n",
            " 0.73488562 0.72406046 0.73999183 0.74979575 0.76143791 0.75428922\n",
            " 0.74754902 0.76960784 0.7495915  0.81719771 0.80208333 0.77736928\n",
            " 0.75714869 0.79370915 0.79166667 0.77144608 0.75265523 0.72691993\n",
            " 0.6629902  0.68198529 0.64419935 0.62152778 0.6439951  0.66319444\n",
            " 0.67544935 0.63705065 0.64603758 0.65890523 0.65870098 0.67790033\n",
            " 0.63194444 0.63112745 0.62785948 0.64767157 0.63991013 0.63480392\n",
            " 0.63868464 0.62336601 0.62745098 0.63970588 0.64705882 0.66196895\n",
            " 0.67075163 0.65196078 0.63112745 0.61294935 0.6376634  0.62254902\n",
            " 0.62745098 0.63337418 0.62642974 0.63623366 0.58312908 0.57781863\n",
            " 0.57230392 0.58006536 0.57618464 0.55167484 0.57883987 0.625\n",
            " 0.63582516 0.62949346 0.62888072 0.62765523 0.62234477 0.63378268\n",
            " 0.62622549 0.62214052 0.62418301 0.53611135 0.53578705 0.53548706\n",
            " 0.53511351 0.53458381 0.53383738 0.53283662]\n",
            "7 day output [[0.5315661]]\n",
            "8 day input [0.6689134  0.66421569 0.67892157 0.69138072 0.70894608 0.72263072\n",
            " 0.73406863 0.72120098 0.74979575 0.7689951  0.74468954 0.7120098\n",
            " 0.74673203 0.75490196 0.76041667 0.75980392 0.74652778 0.76245915\n",
            " 0.77062908 0.80412582 0.78104575 0.79411765 0.76021242 0.73488562\n",
            " 0.72406046 0.73999183 0.74979575 0.76143791 0.75428922 0.74754902\n",
            " 0.76960784 0.7495915  0.81719771 0.80208333 0.77736928 0.75714869\n",
            " 0.79370915 0.79166667 0.77144608 0.75265523 0.72691993 0.6629902\n",
            " 0.68198529 0.64419935 0.62152778 0.6439951  0.66319444 0.67544935\n",
            " 0.63705065 0.64603758 0.65890523 0.65870098 0.67790033 0.63194444\n",
            " 0.63112745 0.62785948 0.64767157 0.63991013 0.63480392 0.63868464\n",
            " 0.62336601 0.62745098 0.63970588 0.64705882 0.66196895 0.67075163\n",
            " 0.65196078 0.63112745 0.61294935 0.6376634  0.62254902 0.62745098\n",
            " 0.63337418 0.62642974 0.63623366 0.58312908 0.57781863 0.57230392\n",
            " 0.58006536 0.57618464 0.55167484 0.57883987 0.625      0.63582516\n",
            " 0.62949346 0.62888072 0.62765523 0.62234477 0.63378268 0.62622549\n",
            " 0.62214052 0.62418301 0.53611135 0.53578705 0.53548706 0.53511351\n",
            " 0.53458381 0.53383738 0.53283662 0.53156608]\n",
            "8 day output [[0.5300281]]\n",
            "9 day input [0.66421569 0.67892157 0.69138072 0.70894608 0.72263072 0.73406863\n",
            " 0.72120098 0.74979575 0.7689951  0.74468954 0.7120098  0.74673203\n",
            " 0.75490196 0.76041667 0.75980392 0.74652778 0.76245915 0.77062908\n",
            " 0.80412582 0.78104575 0.79411765 0.76021242 0.73488562 0.72406046\n",
            " 0.73999183 0.74979575 0.76143791 0.75428922 0.74754902 0.76960784\n",
            " 0.7495915  0.81719771 0.80208333 0.77736928 0.75714869 0.79370915\n",
            " 0.79166667 0.77144608 0.75265523 0.72691993 0.6629902  0.68198529\n",
            " 0.64419935 0.62152778 0.6439951  0.66319444 0.67544935 0.63705065\n",
            " 0.64603758 0.65890523 0.65870098 0.67790033 0.63194444 0.63112745\n",
            " 0.62785948 0.64767157 0.63991013 0.63480392 0.63868464 0.62336601\n",
            " 0.62745098 0.63970588 0.64705882 0.66196895 0.67075163 0.65196078\n",
            " 0.63112745 0.61294935 0.6376634  0.62254902 0.62745098 0.63337418\n",
            " 0.62642974 0.63623366 0.58312908 0.57781863 0.57230392 0.58006536\n",
            " 0.57618464 0.55167484 0.57883987 0.625      0.63582516 0.62949346\n",
            " 0.62888072 0.62765523 0.62234477 0.63378268 0.62622549 0.62214052\n",
            " 0.62418301 0.53611135 0.53578705 0.53548706 0.53511351 0.53458381\n",
            " 0.53383738 0.53283662 0.53156608 0.5300281 ]\n",
            "9 day output [[0.52823967]]\n",
            "10 day input [0.67892157 0.69138072 0.70894608 0.72263072 0.73406863 0.72120098\n",
            " 0.74979575 0.7689951  0.74468954 0.7120098  0.74673203 0.75490196\n",
            " 0.76041667 0.75980392 0.74652778 0.76245915 0.77062908 0.80412582\n",
            " 0.78104575 0.79411765 0.76021242 0.73488562 0.72406046 0.73999183\n",
            " 0.74979575 0.76143791 0.75428922 0.74754902 0.76960784 0.7495915\n",
            " 0.81719771 0.80208333 0.77736928 0.75714869 0.79370915 0.79166667\n",
            " 0.77144608 0.75265523 0.72691993 0.6629902  0.68198529 0.64419935\n",
            " 0.62152778 0.6439951  0.66319444 0.67544935 0.63705065 0.64603758\n",
            " 0.65890523 0.65870098 0.67790033 0.63194444 0.63112745 0.62785948\n",
            " 0.64767157 0.63991013 0.63480392 0.63868464 0.62336601 0.62745098\n",
            " 0.63970588 0.64705882 0.66196895 0.67075163 0.65196078 0.63112745\n",
            " 0.61294935 0.6376634  0.62254902 0.62745098 0.63337418 0.62642974\n",
            " 0.63623366 0.58312908 0.57781863 0.57230392 0.58006536 0.57618464\n",
            " 0.55167484 0.57883987 0.625      0.63582516 0.62949346 0.62888072\n",
            " 0.62765523 0.62234477 0.63378268 0.62622549 0.62214052 0.62418301\n",
            " 0.53611135 0.53578705 0.53548706 0.53511351 0.53458381 0.53383738\n",
            " 0.53283662 0.53156608 0.5300281  0.52823967]\n",
            "10 day output [[0.5262272]]\n",
            "11 day input [0.69138072 0.70894608 0.72263072 0.73406863 0.72120098 0.74979575\n",
            " 0.7689951  0.74468954 0.7120098  0.74673203 0.75490196 0.76041667\n",
            " 0.75980392 0.74652778 0.76245915 0.77062908 0.80412582 0.78104575\n",
            " 0.79411765 0.76021242 0.73488562 0.72406046 0.73999183 0.74979575\n",
            " 0.76143791 0.75428922 0.74754902 0.76960784 0.7495915  0.81719771\n",
            " 0.80208333 0.77736928 0.75714869 0.79370915 0.79166667 0.77144608\n",
            " 0.75265523 0.72691993 0.6629902  0.68198529 0.64419935 0.62152778\n",
            " 0.6439951  0.66319444 0.67544935 0.63705065 0.64603758 0.65890523\n",
            " 0.65870098 0.67790033 0.63194444 0.63112745 0.62785948 0.64767157\n",
            " 0.63991013 0.63480392 0.63868464 0.62336601 0.62745098 0.63970588\n",
            " 0.64705882 0.66196895 0.67075163 0.65196078 0.63112745 0.61294935\n",
            " 0.6376634  0.62254902 0.62745098 0.63337418 0.62642974 0.63623366\n",
            " 0.58312908 0.57781863 0.57230392 0.58006536 0.57618464 0.55167484\n",
            " 0.57883987 0.625      0.63582516 0.62949346 0.62888072 0.62765523\n",
            " 0.62234477 0.63378268 0.62622549 0.62214052 0.62418301 0.53611135\n",
            " 0.53578705 0.53548706 0.53511351 0.53458381 0.53383738 0.53283662\n",
            " 0.53156608 0.5300281  0.52823967 0.52622718]\n",
            "11 day output [[0.5240231]]\n",
            "12 day input [0.70894608 0.72263072 0.73406863 0.72120098 0.74979575 0.7689951\n",
            " 0.74468954 0.7120098  0.74673203 0.75490196 0.76041667 0.75980392\n",
            " 0.74652778 0.76245915 0.77062908 0.80412582 0.78104575 0.79411765\n",
            " 0.76021242 0.73488562 0.72406046 0.73999183 0.74979575 0.76143791\n",
            " 0.75428922 0.74754902 0.76960784 0.7495915  0.81719771 0.80208333\n",
            " 0.77736928 0.75714869 0.79370915 0.79166667 0.77144608 0.75265523\n",
            " 0.72691993 0.6629902  0.68198529 0.64419935 0.62152778 0.6439951\n",
            " 0.66319444 0.67544935 0.63705065 0.64603758 0.65890523 0.65870098\n",
            " 0.67790033 0.63194444 0.63112745 0.62785948 0.64767157 0.63991013\n",
            " 0.63480392 0.63868464 0.62336601 0.62745098 0.63970588 0.64705882\n",
            " 0.66196895 0.67075163 0.65196078 0.63112745 0.61294935 0.6376634\n",
            " 0.62254902 0.62745098 0.63337418 0.62642974 0.63623366 0.58312908\n",
            " 0.57781863 0.57230392 0.58006536 0.57618464 0.55167484 0.57883987\n",
            " 0.625      0.63582516 0.62949346 0.62888072 0.62765523 0.62234477\n",
            " 0.63378268 0.62622549 0.62214052 0.62418301 0.53611135 0.53578705\n",
            " 0.53548706 0.53511351 0.53458381 0.53383738 0.53283662 0.53156608\n",
            " 0.5300281  0.52823967 0.52622718 0.52402312]\n",
            "12 day output [[0.52166253]]\n",
            "13 day input [0.72263072 0.73406863 0.72120098 0.74979575 0.7689951  0.74468954\n",
            " 0.7120098  0.74673203 0.75490196 0.76041667 0.75980392 0.74652778\n",
            " 0.76245915 0.77062908 0.80412582 0.78104575 0.79411765 0.76021242\n",
            " 0.73488562 0.72406046 0.73999183 0.74979575 0.76143791 0.75428922\n",
            " 0.74754902 0.76960784 0.7495915  0.81719771 0.80208333 0.77736928\n",
            " 0.75714869 0.79370915 0.79166667 0.77144608 0.75265523 0.72691993\n",
            " 0.6629902  0.68198529 0.64419935 0.62152778 0.6439951  0.66319444\n",
            " 0.67544935 0.63705065 0.64603758 0.65890523 0.65870098 0.67790033\n",
            " 0.63194444 0.63112745 0.62785948 0.64767157 0.63991013 0.63480392\n",
            " 0.63868464 0.62336601 0.62745098 0.63970588 0.64705882 0.66196895\n",
            " 0.67075163 0.65196078 0.63112745 0.61294935 0.6376634  0.62254902\n",
            " 0.62745098 0.63337418 0.62642974 0.63623366 0.58312908 0.57781863\n",
            " 0.57230392 0.58006536 0.57618464 0.55167484 0.57883987 0.625\n",
            " 0.63582516 0.62949346 0.62888072 0.62765523 0.62234477 0.63378268\n",
            " 0.62622549 0.62214052 0.62418301 0.53611135 0.53578705 0.53548706\n",
            " 0.53511351 0.53458381 0.53383738 0.53283662 0.53156608 0.5300281\n",
            " 0.52823967 0.52622718 0.52402312 0.52166253]\n",
            "13 day output [[0.51918113]]\n",
            "14 day input [0.73406863 0.72120098 0.74979575 0.7689951  0.74468954 0.7120098\n",
            " 0.74673203 0.75490196 0.76041667 0.75980392 0.74652778 0.76245915\n",
            " 0.77062908 0.80412582 0.78104575 0.79411765 0.76021242 0.73488562\n",
            " 0.72406046 0.73999183 0.74979575 0.76143791 0.75428922 0.74754902\n",
            " 0.76960784 0.7495915  0.81719771 0.80208333 0.77736928 0.75714869\n",
            " 0.79370915 0.79166667 0.77144608 0.75265523 0.72691993 0.6629902\n",
            " 0.68198529 0.64419935 0.62152778 0.6439951  0.66319444 0.67544935\n",
            " 0.63705065 0.64603758 0.65890523 0.65870098 0.67790033 0.63194444\n",
            " 0.63112745 0.62785948 0.64767157 0.63991013 0.63480392 0.63868464\n",
            " 0.62336601 0.62745098 0.63970588 0.64705882 0.66196895 0.67075163\n",
            " 0.65196078 0.63112745 0.61294935 0.6376634  0.62254902 0.62745098\n",
            " 0.63337418 0.62642974 0.63623366 0.58312908 0.57781863 0.57230392\n",
            " 0.58006536 0.57618464 0.55167484 0.57883987 0.625      0.63582516\n",
            " 0.62949346 0.62888072 0.62765523 0.62234477 0.63378268 0.62622549\n",
            " 0.62214052 0.62418301 0.53611135 0.53578705 0.53548706 0.53511351\n",
            " 0.53458381 0.53383738 0.53283662 0.53156608 0.5300281  0.52823967\n",
            " 0.52622718 0.52402312 0.52166253 0.51918113]\n",
            "14 day output [[0.51661205]]\n",
            "15 day input [0.72120098 0.74979575 0.7689951  0.74468954 0.7120098  0.74673203\n",
            " 0.75490196 0.76041667 0.75980392 0.74652778 0.76245915 0.77062908\n",
            " 0.80412582 0.78104575 0.79411765 0.76021242 0.73488562 0.72406046\n",
            " 0.73999183 0.74979575 0.76143791 0.75428922 0.74754902 0.76960784\n",
            " 0.7495915  0.81719771 0.80208333 0.77736928 0.75714869 0.79370915\n",
            " 0.79166667 0.77144608 0.75265523 0.72691993 0.6629902  0.68198529\n",
            " 0.64419935 0.62152778 0.6439951  0.66319444 0.67544935 0.63705065\n",
            " 0.64603758 0.65890523 0.65870098 0.67790033 0.63194444 0.63112745\n",
            " 0.62785948 0.64767157 0.63991013 0.63480392 0.63868464 0.62336601\n",
            " 0.62745098 0.63970588 0.64705882 0.66196895 0.67075163 0.65196078\n",
            " 0.63112745 0.61294935 0.6376634  0.62254902 0.62745098 0.63337418\n",
            " 0.62642974 0.63623366 0.58312908 0.57781863 0.57230392 0.58006536\n",
            " 0.57618464 0.55167484 0.57883987 0.625      0.63582516 0.62949346\n",
            " 0.62888072 0.62765523 0.62234477 0.63378268 0.62622549 0.62214052\n",
            " 0.62418301 0.53611135 0.53578705 0.53548706 0.53511351 0.53458381\n",
            " 0.53383738 0.53283662 0.53156608 0.5300281  0.52823967 0.52622718\n",
            " 0.52402312 0.52166253 0.51918113 0.51661205]\n",
            "15 day output [[0.51398593]]\n",
            "16 day input [0.74979575 0.7689951  0.74468954 0.7120098  0.74673203 0.75490196\n",
            " 0.76041667 0.75980392 0.74652778 0.76245915 0.77062908 0.80412582\n",
            " 0.78104575 0.79411765 0.76021242 0.73488562 0.72406046 0.73999183\n",
            " 0.74979575 0.76143791 0.75428922 0.74754902 0.76960784 0.7495915\n",
            " 0.81719771 0.80208333 0.77736928 0.75714869 0.79370915 0.79166667\n",
            " 0.77144608 0.75265523 0.72691993 0.6629902  0.68198529 0.64419935\n",
            " 0.62152778 0.6439951  0.66319444 0.67544935 0.63705065 0.64603758\n",
            " 0.65890523 0.65870098 0.67790033 0.63194444 0.63112745 0.62785948\n",
            " 0.64767157 0.63991013 0.63480392 0.63868464 0.62336601 0.62745098\n",
            " 0.63970588 0.64705882 0.66196895 0.67075163 0.65196078 0.63112745\n",
            " 0.61294935 0.6376634  0.62254902 0.62745098 0.63337418 0.62642974\n",
            " 0.63623366 0.58312908 0.57781863 0.57230392 0.58006536 0.57618464\n",
            " 0.55167484 0.57883987 0.625      0.63582516 0.62949346 0.62888072\n",
            " 0.62765523 0.62234477 0.63378268 0.62622549 0.62214052 0.62418301\n",
            " 0.53611135 0.53578705 0.53548706 0.53511351 0.53458381 0.53383738\n",
            " 0.53283662 0.53156608 0.5300281  0.52823967 0.52622718 0.52402312\n",
            " 0.52166253 0.51918113 0.51661205 0.51398593]\n",
            "16 day output [[0.5113293]]\n",
            "17 day input [0.7689951  0.74468954 0.7120098  0.74673203 0.75490196 0.76041667\n",
            " 0.75980392 0.74652778 0.76245915 0.77062908 0.80412582 0.78104575\n",
            " 0.79411765 0.76021242 0.73488562 0.72406046 0.73999183 0.74979575\n",
            " 0.76143791 0.75428922 0.74754902 0.76960784 0.7495915  0.81719771\n",
            " 0.80208333 0.77736928 0.75714869 0.79370915 0.79166667 0.77144608\n",
            " 0.75265523 0.72691993 0.6629902  0.68198529 0.64419935 0.62152778\n",
            " 0.6439951  0.66319444 0.67544935 0.63705065 0.64603758 0.65890523\n",
            " 0.65870098 0.67790033 0.63194444 0.63112745 0.62785948 0.64767157\n",
            " 0.63991013 0.63480392 0.63868464 0.62336601 0.62745098 0.63970588\n",
            " 0.64705882 0.66196895 0.67075163 0.65196078 0.63112745 0.61294935\n",
            " 0.6376634  0.62254902 0.62745098 0.63337418 0.62642974 0.63623366\n",
            " 0.58312908 0.57781863 0.57230392 0.58006536 0.57618464 0.55167484\n",
            " 0.57883987 0.625      0.63582516 0.62949346 0.62888072 0.62765523\n",
            " 0.62234477 0.63378268 0.62622549 0.62214052 0.62418301 0.53611135\n",
            " 0.53578705 0.53548706 0.53511351 0.53458381 0.53383738 0.53283662\n",
            " 0.53156608 0.5300281  0.52823967 0.52622718 0.52402312 0.52166253\n",
            " 0.51918113 0.51661205 0.51398593 0.51132929]\n",
            "17 day output [[0.50866437]]\n",
            "18 day input [0.74468954 0.7120098  0.74673203 0.75490196 0.76041667 0.75980392\n",
            " 0.74652778 0.76245915 0.77062908 0.80412582 0.78104575 0.79411765\n",
            " 0.76021242 0.73488562 0.72406046 0.73999183 0.74979575 0.76143791\n",
            " 0.75428922 0.74754902 0.76960784 0.7495915  0.81719771 0.80208333\n",
            " 0.77736928 0.75714869 0.79370915 0.79166667 0.77144608 0.75265523\n",
            " 0.72691993 0.6629902  0.68198529 0.64419935 0.62152778 0.6439951\n",
            " 0.66319444 0.67544935 0.63705065 0.64603758 0.65890523 0.65870098\n",
            " 0.67790033 0.63194444 0.63112745 0.62785948 0.64767157 0.63991013\n",
            " 0.63480392 0.63868464 0.62336601 0.62745098 0.63970588 0.64705882\n",
            " 0.66196895 0.67075163 0.65196078 0.63112745 0.61294935 0.6376634\n",
            " 0.62254902 0.62745098 0.63337418 0.62642974 0.63623366 0.58312908\n",
            " 0.57781863 0.57230392 0.58006536 0.57618464 0.55167484 0.57883987\n",
            " 0.625      0.63582516 0.62949346 0.62888072 0.62765523 0.62234477\n",
            " 0.63378268 0.62622549 0.62214052 0.62418301 0.53611135 0.53578705\n",
            " 0.53548706 0.53511351 0.53458381 0.53383738 0.53283662 0.53156608\n",
            " 0.5300281  0.52823967 0.52622718 0.52402312 0.52166253 0.51918113\n",
            " 0.51661205 0.51398593 0.51132929 0.50866437]\n",
            "18 day output [[0.5060095]]\n",
            "19 day input [0.7120098  0.74673203 0.75490196 0.76041667 0.75980392 0.74652778\n",
            " 0.76245915 0.77062908 0.80412582 0.78104575 0.79411765 0.76021242\n",
            " 0.73488562 0.72406046 0.73999183 0.74979575 0.76143791 0.75428922\n",
            " 0.74754902 0.76960784 0.7495915  0.81719771 0.80208333 0.77736928\n",
            " 0.75714869 0.79370915 0.79166667 0.77144608 0.75265523 0.72691993\n",
            " 0.6629902  0.68198529 0.64419935 0.62152778 0.6439951  0.66319444\n",
            " 0.67544935 0.63705065 0.64603758 0.65890523 0.65870098 0.67790033\n",
            " 0.63194444 0.63112745 0.62785948 0.64767157 0.63991013 0.63480392\n",
            " 0.63868464 0.62336601 0.62745098 0.63970588 0.64705882 0.66196895\n",
            " 0.67075163 0.65196078 0.63112745 0.61294935 0.6376634  0.62254902\n",
            " 0.62745098 0.63337418 0.62642974 0.63623366 0.58312908 0.57781863\n",
            " 0.57230392 0.58006536 0.57618464 0.55167484 0.57883987 0.625\n",
            " 0.63582516 0.62949346 0.62888072 0.62765523 0.62234477 0.63378268\n",
            " 0.62622549 0.62214052 0.62418301 0.53611135 0.53578705 0.53548706\n",
            " 0.53511351 0.53458381 0.53383738 0.53283662 0.53156608 0.5300281\n",
            " 0.52823967 0.52622718 0.52402312 0.52166253 0.51918113 0.51661205\n",
            " 0.51398593 0.51132929 0.50866437 0.50600952]\n",
            "19 day output [[0.5033786]]\n",
            "20 day input [0.74673203 0.75490196 0.76041667 0.75980392 0.74652778 0.76245915\n",
            " 0.77062908 0.80412582 0.78104575 0.79411765 0.76021242 0.73488562\n",
            " 0.72406046 0.73999183 0.74979575 0.76143791 0.75428922 0.74754902\n",
            " 0.76960784 0.7495915  0.81719771 0.80208333 0.77736928 0.75714869\n",
            " 0.79370915 0.79166667 0.77144608 0.75265523 0.72691993 0.6629902\n",
            " 0.68198529 0.64419935 0.62152778 0.6439951  0.66319444 0.67544935\n",
            " 0.63705065 0.64603758 0.65890523 0.65870098 0.67790033 0.63194444\n",
            " 0.63112745 0.62785948 0.64767157 0.63991013 0.63480392 0.63868464\n",
            " 0.62336601 0.62745098 0.63970588 0.64705882 0.66196895 0.67075163\n",
            " 0.65196078 0.63112745 0.61294935 0.6376634  0.62254902 0.62745098\n",
            " 0.63337418 0.62642974 0.63623366 0.58312908 0.57781863 0.57230392\n",
            " 0.58006536 0.57618464 0.55167484 0.57883987 0.625      0.63582516\n",
            " 0.62949346 0.62888072 0.62765523 0.62234477 0.63378268 0.62622549\n",
            " 0.62214052 0.62418301 0.53611135 0.53578705 0.53548706 0.53511351\n",
            " 0.53458381 0.53383738 0.53283662 0.53156608 0.5300281  0.52823967\n",
            " 0.52622718 0.52402312 0.52166253 0.51918113 0.51661205 0.51398593\n",
            " 0.51132929 0.50866437 0.50600952 0.50337863]\n",
            "20 day output [[0.5007824]]\n",
            "21 day input [0.75490196 0.76041667 0.75980392 0.74652778 0.76245915 0.77062908\n",
            " 0.80412582 0.78104575 0.79411765 0.76021242 0.73488562 0.72406046\n",
            " 0.73999183 0.74979575 0.76143791 0.75428922 0.74754902 0.76960784\n",
            " 0.7495915  0.81719771 0.80208333 0.77736928 0.75714869 0.79370915\n",
            " 0.79166667 0.77144608 0.75265523 0.72691993 0.6629902  0.68198529\n",
            " 0.64419935 0.62152778 0.6439951  0.66319444 0.67544935 0.63705065\n",
            " 0.64603758 0.65890523 0.65870098 0.67790033 0.63194444 0.63112745\n",
            " 0.62785948 0.64767157 0.63991013 0.63480392 0.63868464 0.62336601\n",
            " 0.62745098 0.63970588 0.64705882 0.66196895 0.67075163 0.65196078\n",
            " 0.63112745 0.61294935 0.6376634  0.62254902 0.62745098 0.63337418\n",
            " 0.62642974 0.63623366 0.58312908 0.57781863 0.57230392 0.58006536\n",
            " 0.57618464 0.55167484 0.57883987 0.625      0.63582516 0.62949346\n",
            " 0.62888072 0.62765523 0.62234477 0.63378268 0.62622549 0.62214052\n",
            " 0.62418301 0.53611135 0.53578705 0.53548706 0.53511351 0.53458381\n",
            " 0.53383738 0.53283662 0.53156608 0.5300281  0.52823967 0.52622718\n",
            " 0.52402312 0.52166253 0.51918113 0.51661205 0.51398593 0.51132929\n",
            " 0.50866437 0.50600952 0.50337863 0.50078237]\n",
            "21 day output [[0.49822837]]\n",
            "22 day input [0.76041667 0.75980392 0.74652778 0.76245915 0.77062908 0.80412582\n",
            " 0.78104575 0.79411765 0.76021242 0.73488562 0.72406046 0.73999183\n",
            " 0.74979575 0.76143791 0.75428922 0.74754902 0.76960784 0.7495915\n",
            " 0.81719771 0.80208333 0.77736928 0.75714869 0.79370915 0.79166667\n",
            " 0.77144608 0.75265523 0.72691993 0.6629902  0.68198529 0.64419935\n",
            " 0.62152778 0.6439951  0.66319444 0.67544935 0.63705065 0.64603758\n",
            " 0.65890523 0.65870098 0.67790033 0.63194444 0.63112745 0.62785948\n",
            " 0.64767157 0.63991013 0.63480392 0.63868464 0.62336601 0.62745098\n",
            " 0.63970588 0.64705882 0.66196895 0.67075163 0.65196078 0.63112745\n",
            " 0.61294935 0.6376634  0.62254902 0.62745098 0.63337418 0.62642974\n",
            " 0.63623366 0.58312908 0.57781863 0.57230392 0.58006536 0.57618464\n",
            " 0.55167484 0.57883987 0.625      0.63582516 0.62949346 0.62888072\n",
            " 0.62765523 0.62234477 0.63378268 0.62622549 0.62214052 0.62418301\n",
            " 0.53611135 0.53578705 0.53548706 0.53511351 0.53458381 0.53383738\n",
            " 0.53283662 0.53156608 0.5300281  0.52823967 0.52622718 0.52402312\n",
            " 0.52166253 0.51918113 0.51661205 0.51398593 0.51132929 0.50866437\n",
            " 0.50600952 0.50337863 0.50078237 0.49822837]\n",
            "22 day output [[0.49572116]]\n",
            "23 day input [0.75980392 0.74652778 0.76245915 0.77062908 0.80412582 0.78104575\n",
            " 0.79411765 0.76021242 0.73488562 0.72406046 0.73999183 0.74979575\n",
            " 0.76143791 0.75428922 0.74754902 0.76960784 0.7495915  0.81719771\n",
            " 0.80208333 0.77736928 0.75714869 0.79370915 0.79166667 0.77144608\n",
            " 0.75265523 0.72691993 0.6629902  0.68198529 0.64419935 0.62152778\n",
            " 0.6439951  0.66319444 0.67544935 0.63705065 0.64603758 0.65890523\n",
            " 0.65870098 0.67790033 0.63194444 0.63112745 0.62785948 0.64767157\n",
            " 0.63991013 0.63480392 0.63868464 0.62336601 0.62745098 0.63970588\n",
            " 0.64705882 0.66196895 0.67075163 0.65196078 0.63112745 0.61294935\n",
            " 0.6376634  0.62254902 0.62745098 0.63337418 0.62642974 0.63623366\n",
            " 0.58312908 0.57781863 0.57230392 0.58006536 0.57618464 0.55167484\n",
            " 0.57883987 0.625      0.63582516 0.62949346 0.62888072 0.62765523\n",
            " 0.62234477 0.63378268 0.62622549 0.62214052 0.62418301 0.53611135\n",
            " 0.53578705 0.53548706 0.53511351 0.53458381 0.53383738 0.53283662\n",
            " 0.53156608 0.5300281  0.52823967 0.52622718 0.52402312 0.52166253\n",
            " 0.51918113 0.51661205 0.51398593 0.51132929 0.50866437 0.50600952\n",
            " 0.50337863 0.50078237 0.49822837 0.49572116]\n",
            "23 day output [[0.49326366]]\n",
            "24 day input [0.74652778 0.76245915 0.77062908 0.80412582 0.78104575 0.79411765\n",
            " 0.76021242 0.73488562 0.72406046 0.73999183 0.74979575 0.76143791\n",
            " 0.75428922 0.74754902 0.76960784 0.7495915  0.81719771 0.80208333\n",
            " 0.77736928 0.75714869 0.79370915 0.79166667 0.77144608 0.75265523\n",
            " 0.72691993 0.6629902  0.68198529 0.64419935 0.62152778 0.6439951\n",
            " 0.66319444 0.67544935 0.63705065 0.64603758 0.65890523 0.65870098\n",
            " 0.67790033 0.63194444 0.63112745 0.62785948 0.64767157 0.63991013\n",
            " 0.63480392 0.63868464 0.62336601 0.62745098 0.63970588 0.64705882\n",
            " 0.66196895 0.67075163 0.65196078 0.63112745 0.61294935 0.6376634\n",
            " 0.62254902 0.62745098 0.63337418 0.62642974 0.63623366 0.58312908\n",
            " 0.57781863 0.57230392 0.58006536 0.57618464 0.55167484 0.57883987\n",
            " 0.625      0.63582516 0.62949346 0.62888072 0.62765523 0.62234477\n",
            " 0.63378268 0.62622549 0.62214052 0.62418301 0.53611135 0.53578705\n",
            " 0.53548706 0.53511351 0.53458381 0.53383738 0.53283662 0.53156608\n",
            " 0.5300281  0.52823967 0.52622718 0.52402312 0.52166253 0.51918113\n",
            " 0.51661205 0.51398593 0.51132929 0.50866437 0.50600952 0.50337863\n",
            " 0.50078237 0.49822837 0.49572116 0.49326366]\n",
            "24 day output [[0.49085665]]\n",
            "25 day input [0.76245915 0.77062908 0.80412582 0.78104575 0.79411765 0.76021242\n",
            " 0.73488562 0.72406046 0.73999183 0.74979575 0.76143791 0.75428922\n",
            " 0.74754902 0.76960784 0.7495915  0.81719771 0.80208333 0.77736928\n",
            " 0.75714869 0.79370915 0.79166667 0.77144608 0.75265523 0.72691993\n",
            " 0.6629902  0.68198529 0.64419935 0.62152778 0.6439951  0.66319444\n",
            " 0.67544935 0.63705065 0.64603758 0.65890523 0.65870098 0.67790033\n",
            " 0.63194444 0.63112745 0.62785948 0.64767157 0.63991013 0.63480392\n",
            " 0.63868464 0.62336601 0.62745098 0.63970588 0.64705882 0.66196895\n",
            " 0.67075163 0.65196078 0.63112745 0.61294935 0.6376634  0.62254902\n",
            " 0.62745098 0.63337418 0.62642974 0.63623366 0.58312908 0.57781863\n",
            " 0.57230392 0.58006536 0.57618464 0.55167484 0.57883987 0.625\n",
            " 0.63582516 0.62949346 0.62888072 0.62765523 0.62234477 0.63378268\n",
            " 0.62622549 0.62214052 0.62418301 0.53611135 0.53578705 0.53548706\n",
            " 0.53511351 0.53458381 0.53383738 0.53283662 0.53156608 0.5300281\n",
            " 0.52823967 0.52622718 0.52402312 0.52166253 0.51918113 0.51661205\n",
            " 0.51398593 0.51132929 0.50866437 0.50600952 0.50337863 0.50078237\n",
            " 0.49822837 0.49572116 0.49326366 0.49085665]\n",
            "25 day output [[0.48849976]]\n",
            "26 day input [0.77062908 0.80412582 0.78104575 0.79411765 0.76021242 0.73488562\n",
            " 0.72406046 0.73999183 0.74979575 0.76143791 0.75428922 0.74754902\n",
            " 0.76960784 0.7495915  0.81719771 0.80208333 0.77736928 0.75714869\n",
            " 0.79370915 0.79166667 0.77144608 0.75265523 0.72691993 0.6629902\n",
            " 0.68198529 0.64419935 0.62152778 0.6439951  0.66319444 0.67544935\n",
            " 0.63705065 0.64603758 0.65890523 0.65870098 0.67790033 0.63194444\n",
            " 0.63112745 0.62785948 0.64767157 0.63991013 0.63480392 0.63868464\n",
            " 0.62336601 0.62745098 0.63970588 0.64705882 0.66196895 0.67075163\n",
            " 0.65196078 0.63112745 0.61294935 0.6376634  0.62254902 0.62745098\n",
            " 0.63337418 0.62642974 0.63623366 0.58312908 0.57781863 0.57230392\n",
            " 0.58006536 0.57618464 0.55167484 0.57883987 0.625      0.63582516\n",
            " 0.62949346 0.62888072 0.62765523 0.62234477 0.63378268 0.62622549\n",
            " 0.62214052 0.62418301 0.53611135 0.53578705 0.53548706 0.53511351\n",
            " 0.53458381 0.53383738 0.53283662 0.53156608 0.5300281  0.52823967\n",
            " 0.52622718 0.52402312 0.52166253 0.51918113 0.51661205 0.51398593\n",
            " 0.51132929 0.50866437 0.50600952 0.50337863 0.50078237 0.49822837\n",
            " 0.49572116 0.49326366 0.49085665 0.48849976]\n",
            "26 day output [[0.48619223]]\n",
            "27 day input [0.80412582 0.78104575 0.79411765 0.76021242 0.73488562 0.72406046\n",
            " 0.73999183 0.74979575 0.76143791 0.75428922 0.74754902 0.76960784\n",
            " 0.7495915  0.81719771 0.80208333 0.77736928 0.75714869 0.79370915\n",
            " 0.79166667 0.77144608 0.75265523 0.72691993 0.6629902  0.68198529\n",
            " 0.64419935 0.62152778 0.6439951  0.66319444 0.67544935 0.63705065\n",
            " 0.64603758 0.65890523 0.65870098 0.67790033 0.63194444 0.63112745\n",
            " 0.62785948 0.64767157 0.63991013 0.63480392 0.63868464 0.62336601\n",
            " 0.62745098 0.63970588 0.64705882 0.66196895 0.67075163 0.65196078\n",
            " 0.63112745 0.61294935 0.6376634  0.62254902 0.62745098 0.63337418\n",
            " 0.62642974 0.63623366 0.58312908 0.57781863 0.57230392 0.58006536\n",
            " 0.57618464 0.55167484 0.57883987 0.625      0.63582516 0.62949346\n",
            " 0.62888072 0.62765523 0.62234477 0.63378268 0.62622549 0.62214052\n",
            " 0.62418301 0.53611135 0.53578705 0.53548706 0.53511351 0.53458381\n",
            " 0.53383738 0.53283662 0.53156608 0.5300281  0.52823967 0.52622718\n",
            " 0.52402312 0.52166253 0.51918113 0.51661205 0.51398593 0.51132929\n",
            " 0.50866437 0.50600952 0.50337863 0.50078237 0.49822837 0.49572116\n",
            " 0.49326366 0.49085665 0.48849976 0.48619223]\n",
            "27 day output [[0.48393202]]\n",
            "28 day input [0.78104575 0.79411765 0.76021242 0.73488562 0.72406046 0.73999183\n",
            " 0.74979575 0.76143791 0.75428922 0.74754902 0.76960784 0.7495915\n",
            " 0.81719771 0.80208333 0.77736928 0.75714869 0.79370915 0.79166667\n",
            " 0.77144608 0.75265523 0.72691993 0.6629902  0.68198529 0.64419935\n",
            " 0.62152778 0.6439951  0.66319444 0.67544935 0.63705065 0.64603758\n",
            " 0.65890523 0.65870098 0.67790033 0.63194444 0.63112745 0.62785948\n",
            " 0.64767157 0.63991013 0.63480392 0.63868464 0.62336601 0.62745098\n",
            " 0.63970588 0.64705882 0.66196895 0.67075163 0.65196078 0.63112745\n",
            " 0.61294935 0.6376634  0.62254902 0.62745098 0.63337418 0.62642974\n",
            " 0.63623366 0.58312908 0.57781863 0.57230392 0.58006536 0.57618464\n",
            " 0.55167484 0.57883987 0.625      0.63582516 0.62949346 0.62888072\n",
            " 0.62765523 0.62234477 0.63378268 0.62622549 0.62214052 0.62418301\n",
            " 0.53611135 0.53578705 0.53548706 0.53511351 0.53458381 0.53383738\n",
            " 0.53283662 0.53156608 0.5300281  0.52823967 0.52622718 0.52402312\n",
            " 0.52166253 0.51918113 0.51661205 0.51398593 0.51132929 0.50866437\n",
            " 0.50600952 0.50337863 0.50078237 0.49822837 0.49572116 0.49326366\n",
            " 0.49085665 0.48849976 0.48619223 0.48393202]\n",
            "28 day output [[0.48171723]]\n",
            "29 day input [0.79411765 0.76021242 0.73488562 0.72406046 0.73999183 0.74979575\n",
            " 0.76143791 0.75428922 0.74754902 0.76960784 0.7495915  0.81719771\n",
            " 0.80208333 0.77736928 0.75714869 0.79370915 0.79166667 0.77144608\n",
            " 0.75265523 0.72691993 0.6629902  0.68198529 0.64419935 0.62152778\n",
            " 0.6439951  0.66319444 0.67544935 0.63705065 0.64603758 0.65890523\n",
            " 0.65870098 0.67790033 0.63194444 0.63112745 0.62785948 0.64767157\n",
            " 0.63991013 0.63480392 0.63868464 0.62336601 0.62745098 0.63970588\n",
            " 0.64705882 0.66196895 0.67075163 0.65196078 0.63112745 0.61294935\n",
            " 0.6376634  0.62254902 0.62745098 0.63337418 0.62642974 0.63623366\n",
            " 0.58312908 0.57781863 0.57230392 0.58006536 0.57618464 0.55167484\n",
            " 0.57883987 0.625      0.63582516 0.62949346 0.62888072 0.62765523\n",
            " 0.62234477 0.63378268 0.62622549 0.62214052 0.62418301 0.53611135\n",
            " 0.53578705 0.53548706 0.53511351 0.53458381 0.53383738 0.53283662\n",
            " 0.53156608 0.5300281  0.52823967 0.52622718 0.52402312 0.52166253\n",
            " 0.51918113 0.51661205 0.51398593 0.51132929 0.50866437 0.50600952\n",
            " 0.50337863 0.50078237 0.49822837 0.49572116 0.49326366 0.49085665\n",
            " 0.48849976 0.48619223 0.48393202 0.48171723]\n",
            "29 day output [[0.47954535]]\n",
            "[[0.5361113548278809], [0.535787045955658], [0.5354870557785034], [0.535113513469696], [0.5345838069915771], [0.5338373780250549], [0.5328366160392761], [0.5315660834312439], [0.5300281047821045], [0.5282396674156189], [0.5262271761894226], [0.5240231156349182], [0.5216625332832336], [0.5191811323165894], [0.5166120529174805], [0.5139859318733215], [0.5113292932510376], [0.5086643695831299], [0.5060095191001892], [0.5033786296844482], [0.5007823705673218], [0.49822837114334106], [0.49572116136550903], [0.4932636618614197], [0.4908566474914551], [0.4884997606277466], [0.4861922264099121], [0.4839320182800293], [0.48171722888946533], [0.47954535484313965]]\n"
          ]
        }
      ],
      "source": [
        "lst_output=[] #predicted 30 days output\n",
        "n_steps=100\n",
        "i=0\n",
        "while(i<30): #for 30 days-change according to the number of days you want\n",
        "    \n",
        "    if(len(temp_input)>100):\n",
        "        #print(temp_input)\n",
        "        pred_input=np.array(temp_input[1:]) # for last 100 data\n",
        "        print(\"{} day input {}\".format(i,pred_input))\n",
        "        pred_input=pred_input.reshape(1,-1)\n",
        "        pred_input = pred_input.reshape((1, n_steps, 1))\n",
        "        #print(x_input)\n",
        "        yhat = model.predict(pred_input, verbose=0)\n",
        "        print(\"{} day output {}\".format(i,yhat))\n",
        "        temp_input.extend(yhat[0].tolist())\n",
        "        temp_input=temp_input[1:]\n",
        "        #print(temp_input)\n",
        "        lst_output.extend(yhat.tolist())\n",
        "        i=i+1\n",
        "    else:\n",
        "        pred_input = pred_input.reshape((1, n_steps,1))\n",
        "        yhat = model.predict(pred_input, verbose=0)\n",
        "        print(yhat[0])\n",
        "        temp_input.extend(yhat[0].tolist())\n",
        "        print(len(temp_input))\n",
        "        lst_output.extend(yhat.tolist())\n",
        "        i=i+1\n",
        "    \n",
        "\n",
        "print(lst_output)"
      ]
    },
    {
      "cell_type": "markdown",
      "id": "65ecb353",
      "metadata": {
        "id": "65ecb353"
      },
      "source": [
        "#### Ploting last 130 days Closing Price"
      ]
    },
    {
      "cell_type": "code",
      "execution_count": null,
      "id": "1ccf519b",
      "metadata": {
        "id": "1ccf519b"
      },
      "outputs": [],
      "source": [
        "day_new = np.arange(1,101)\n",
        "day_pred = np.arange(101,131)"
      ]
    },
    {
      "cell_type": "code",
      "execution_count": null,
      "id": "11a48eea",
      "metadata": {
        "colab": {
          "base_uri": "https://localhost:8080/"
        },
        "id": "11a48eea",
        "outputId": "a5035c66-fddd-404f-f068-fadb7a2a03e0"
      },
      "outputs": [
        {
          "output_type": "execute_result",
          "data": {
            "text/plain": [
              "2035"
            ]
          },
          "metadata": {},
          "execution_count": 156
        }
      ],
      "source": [
        "len(close)"
      ]
    },
    {
      "cell_type": "code",
      "execution_count": null,
      "id": "6f42ae7b",
      "metadata": {
        "colab": {
          "base_uri": "https://localhost:8080/",
          "height": 446
        },
        "id": "6f42ae7b",
        "outputId": "a01fcebf-ae27-4bdb-f2b4-63813f8df99f"
      },
      "outputs": [
        {
          "output_type": "execute_result",
          "data": {
            "text/plain": [
              "[<matplotlib.lines.Line2D at 0x7fae6d2a1190>]"
            ]
          },
          "metadata": {},
          "execution_count": 157
        },
        {
          "output_type": "display_data",
          "data": {
            "text/plain": [
              "<Figure size 720x504 with 1 Axes>"
            ],
            "image/png": "[encoded data removed]"
          },
          "metadata": {
            "needs_background": "light"
          }
        }
      ],
      "source": [
        "plt.figure(figsize=(10,7))\n",
        "plt.plot(day_new,scaler.inverse_transform(close[1935:]))\n",
        "plt.plot(day_pred,scaler.inverse_transform(lst_output))"
      ]
    },
    {
      "cell_type": "markdown",
      "id": "ccd1c5ce",
      "metadata": {
        "id": "ccd1c5ce"
      },
      "source": [
        "#### Appending in a list is done to make continuous graph"
      ]
    },
    {
      "cell_type": "code",
      "execution_count": null,
      "id": "0a389f37",
      "metadata": {
        "id": "0a389f37"
      },
      "outputs": [],
      "source": [
        "df3=close.tolist()\n",
        "#adding specified list of predicted 30 days output to the end of last 100 days output\n",
        "df3.extend(lst_output)"
      ]
    },
    {
      "cell_type": "code",
      "execution_count": null,
      "id": "502d89fb",
      "metadata": {
        "colab": {
          "base_uri": "https://localhost:8080/"
        },
        "id": "502d89fb",
        "outputId": "1c18ce8f-e875-49b7-e96b-b4ce7b42e847"
      },
      "outputs": [
        {
          "output_type": "stream",
          "name": "stdout",
          "text": [
            "2065\n"
          ]
        }
      ],
      "source": [
        "print(len(df3))"
      ]
    },
    {
      "cell_type": "code",
      "execution_count": null,
      "id": "c642967f",
      "metadata": {
        "colab": {
          "base_uri": "https://localhost:8080/",
          "height": 446
        },
        "id": "c642967f",
        "outputId": "f2694a1c-4e20-42ae-ed79-84c05fa9fe59"
      },
      "outputs": [
        {
          "output_type": "execute_result",
          "data": {
            "text/plain": [
              "[<matplotlib.lines.Line2D at 0x7fae6d244510>]"
            ]
          },
          "metadata": {},
          "execution_count": 160
        },
        {
          "output_type": "display_data",
          "data": {
            "text/plain": [
              "<Figure size 720x504 with 1 Axes>"
            ],
            "image/png": "[encoded data removed]"
          },
          "metadata": {
            "needs_background": "light"
          }
        }
      ],
      "source": [
        "plt.figure(figsize=(10,7))\n",
        "plt.plot(df3[1935:]) #latest 100 days output"
      ]
    },
    {
      "cell_type": "markdown",
      "id": "45ca2264",
      "metadata": {
        "id": "45ca2264"
      },
      "source": [
        "#### Plotting the graph with predicted 30 days output"
      ]
    },
    {
      "cell_type": "code",
      "execution_count": null,
      "id": "1c4fde1c",
      "metadata": {
        "id": "1c4fde1c"
      },
      "outputs": [],
      "source": [
        "df3=scaler.inverse_transform(df3).tolist() #undoing scaling of df3"
      ]
    },
    {
      "cell_type": "code",
      "execution_count": null,
      "id": "7876b011",
      "metadata": {
        "colab": {
          "base_uri": "https://localhost:8080/",
          "height": 446
        },
        "id": "7876b011",
        "outputId": "a7c74efc-7029-4463-927d-01faed0a0b82"
      },
      "outputs": [
        {
          "output_type": "execute_result",
          "data": {
            "text/plain": [
              "[<matplotlib.lines.Line2D at 0x7fae6d1bd6d0>]"
            ]
          },
          "metadata": {},
          "execution_count": 162
        },
        {
          "output_type": "display_data",
          "data": {
            "text/plain": [
              "<Figure size 720x504 with 1 Axes>"
            ],
            "image/png": "[encoded data removed]"
          },
          "metadata": {
            "needs_background": "light"
          }
        }
      ],
      "source": [
        "plt.figure(figsize=(10,7))\n",
        "plt.plot(df3)"
      ]
    },
    {
      "cell_type": "code",
      "source": [],
      "metadata": {
        "id": "nfpifiOQ0gT5"
      },
      "id": "nfpifiOQ0gT5",
      "execution_count": null,
      "outputs": []
    }
  ],
  "metadata": {
    "kernelspec": {
      "display_name": "Python 3 (ipykernel)",
      "language": "python",
      "name": "python3"
    },
    "language_info": {
      "codemirror_mode": {
        "name": "ipython",
        "version": 3
      },
      "file_extension": ".py",
      "mimetype": "text/x-python",
      "name": "python",
      "nbconvert_exporter": "python",
      "pygments_lexer": "ipython3",
      "version": "3.9.12"
    },
    "colab": {
      "provenance": [],
      "collapsed_sections": []
    }
  },
  "nbformat": 4,
  "nbformat_minor": 5
}